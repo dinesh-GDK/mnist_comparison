{
 "cells": [
  {
   "cell_type": "code",
   "execution_count": 25,
   "id": "4fe52035",
   "metadata": {},
   "outputs": [
    {
     "name": "stdout",
     "output_type": "stream",
     "text": [
      "Enabling notebook extension jupyter-js-widgets/extension...\r\n",
      "      - Validating: \u001b[32mOK\u001b[0m\r\n"
     ]
    }
   ],
   "source": [
    "# create requirements.txt\n",
    "# !pip3 install ipywidgets\n",
    "!jupyter nbextension enable --py widgetsnbextension --sys-prefix"
   ]
  },
  {
   "cell_type": "code",
   "execution_count": 18,
   "id": "0554cc43",
   "metadata": {},
   "outputs": [],
   "source": [
    "import numpy as np\n",
    "import matplotlib.pyplot as plt\n",
    "import idx2numpy\n",
    "import random\n",
    "from urllib import request\n",
    "import shutil\n",
    "import gzip\n",
    "import os\n",
    "from tqdm import tqdm"
   ]
  },
  {
   "cell_type": "code",
   "execution_count": 2,
   "id": "a4726989",
   "metadata": {},
   "outputs": [],
   "source": [
    "DTYPE = np.float32"
   ]
  },
  {
   "cell_type": "markdown",
   "id": "4ad227ff",
   "metadata": {},
   "source": [
    "# Prepare the Dataset"
   ]
  },
  {
   "cell_type": "markdown",
   "id": "d029a19c",
   "metadata": {},
   "source": [
    "### Download and unzip the MNIST dataset"
   ]
  },
  {
   "cell_type": "code",
   "execution_count": 3,
   "id": "5d54c32f",
   "metadata": {},
   "outputs": [],
   "source": [
    "base_url = 'http://yann.lecun.com/exdb/mnist/'\n",
    "\n",
    "dataset = ['train-images.idx3-ubyte', 'train-labels.idx1-ubyte',\n",
    "           't10k-images.idx3-ubyte', 't10k-labels.idx1-ubyte']\n",
    "\n",
    "for file in dataset:\n",
    "    \n",
    "    _file = file.replace('.', '-') + '.gz'\n",
    "    \n",
    "    if _file not in os.listdir():\n",
    "        with request.urlopen(f'{base_url}{_file}') as response, open(_file, 'wb') as out_file:\n",
    "            shutil.copyfileobj(response, out_file)\n",
    "    \n",
    "    if file not in os.listdir():\n",
    "        with gzip.open(_file, 'rb') as f_in, open(file, 'wb') as f_out:\n",
    "            shutil.copyfileobj(f_in, f_out)"
   ]
  },
  {
   "cell_type": "markdown",
   "id": "4fe04597",
   "metadata": {},
   "source": [
    "### Load the dataset"
   ]
  },
  {
   "cell_type": "code",
   "execution_count": 4,
   "id": "e07aa243",
   "metadata": {
    "scrolled": true
   },
   "outputs": [],
   "source": [
    "train_images = idx2numpy.convert_from_file(dataset[0]) / 255.0\n",
    "train_labels = idx2numpy.convert_from_file(dataset[1])\n",
    "test_images = idx2numpy.convert_from_file(dataset[2]) / 255.0\n",
    "test_labels = idx2numpy.convert_from_file(dataset[3])"
   ]
  },
  {
   "cell_type": "markdown",
   "id": "8a6a9739",
   "metadata": {},
   "source": [
    "### Plot a random sample"
   ]
  },
  {
   "cell_type": "code",
   "execution_count": 5,
   "id": "670ff57e",
   "metadata": {},
   "outputs": [
    {
     "data": {
      "text/plain": [
       "<matplotlib.image.AxesImage at 0x7f039c1f3190>"
      ]
     },
     "execution_count": 5,
     "metadata": {},
     "output_type": "execute_result"
    },
    {
     "data": {
      "image/png": "[encoded data removed]",
      "text/plain": [
       "<Figure size 432x288 with 1 Axes>"
      ]
     },
     "metadata": {
      "needs_background": "light"
     },
     "output_type": "display_data"
    }
   ],
   "source": [
    "idx = random.randint(0, len(train_images))\n",
    "plt.title(f'Label: {train_labels[idx]}')\n",
    "plt.imshow(train_images[idx], cmap='gray')"
   ]
  },
  {
   "cell_type": "code",
   "execution_count": 6,
   "id": "9dc17bc8",
   "metadata": {},
   "outputs": [],
   "source": [
    "def relu(vector):\n",
    "    vector[vector<0] = 0\n",
    "    return vector"
   ]
  },
  {
   "cell_type": "code",
   "execution_count": 7,
   "id": "b5bce57e",
   "metadata": {},
   "outputs": [],
   "source": [
    "def relu_derivative(vector):\n",
    "    vector[vector<=0] = 0.0\n",
    "    vector[vector>0] = 1.0\n",
    "    return vector"
   ]
  },
  {
   "cell_type": "code",
   "execution_count": 8,
   "id": "cb340089",
   "metadata": {},
   "outputs": [],
   "source": [
    "def softmax(vector):\n",
    "    exp = np.exp(vector)# - np.max(vector))\n",
    "    return exp / exp.sum()"
   ]
  },
  {
   "cell_type": "code",
   "execution_count": 9,
   "id": "539269fc",
   "metadata": {},
   "outputs": [],
   "source": [
    "def cross_entropy(predict, label):\n",
    "    return -np.sum(label*np.log(predict)).astype(DTYPE)"
   ]
  },
  {
   "cell_type": "code",
   "execution_count": 10,
   "id": "936b9819",
   "metadata": {},
   "outputs": [],
   "source": [
    "def cross_entropy_derivative(predict, label):\n",
    "    return (-label/predict).astype(DTYPE)"
   ]
  },
  {
   "cell_type": "code",
   "execution_count": 11,
   "id": "8112229c",
   "metadata": {},
   "outputs": [],
   "source": [
    "def softmax_derivative(softmax):\n",
    "    s = softmax.reshape(-1,1)\n",
    "    return np.diagflat(s) - np.dot(s, s.T)"
   ]
  },
  {
   "cell_type": "code",
   "execution_count": 27,
   "id": "585c470a",
   "metadata": {},
   "outputs": [
    {
     "name": "stderr",
     "output_type": "stream",
     "text": [
      "Epoch: 1/1: 100%|█████████████| 1000/1000 [00:09<00:00, 107.19it/s, Loss=0.5629]\n"
     ]
    }
   ],
   "source": [
    "lr = 0.01\n",
    "\n",
    "class CustomMnist:\n",
    "    \n",
    "    def __init__(self, input_shape=(28, 28)):\n",
    "        \n",
    "        input_shape = input_shape[0]*input_shape[1]\n",
    "        self.layer1 = np.random.uniform(-1.0, 1.0, size=(input_shape, 128))/np.sqrt(input_shape*128)\n",
    "        self.layer2 = np.random.uniform(-1.0, 1.0, size=(128, 10))/np.sqrt(128*10)\n",
    "        \n",
    "        self.layer1 = self.layer1.astype(DTYPE)\n",
    "        self.layer2 = self.layer2.astype(DTYPE)\n",
    "        \n",
    "    def forward(self, image):\n",
    "        \n",
    "        self.flatten = np.reshape(image.astype(DTYPE), (1, image.shape[0]*image.shape[1]))\n",
    "        self.inter1 = np.dot(self.flatten, self.layer1)\n",
    "        self.acti1 = relu(self.inter1)\n",
    "        self.inter2 = np.dot(self.acti1, self.layer2)        \n",
    "        self.acti2 = softmax(self.inter2)\n",
    "        \n",
    "        return self.acti2\n",
    "    \n",
    "    def back_propagation(self, label):\n",
    "        \n",
    "        label_arr = np.zeros((1, 10))\n",
    "        label_arr[0][label] = 1\n",
    "        \n",
    "        loss = cross_entropy(self.acti2, label_arr)\n",
    "        d_cross_entropy = cross_entropy_derivative(self.acti2, label_arr)        \n",
    "        d_softmax = np.dot(d_cross_entropy, softmax_derivative(self.acti2))\n",
    "        d_layer2 = np.dot(self.acti1.T, d_softmax)\n",
    "        d_acti1 = np.dot(d_softmax, self.layer2.T)\n",
    "        d_relu = relu_derivative(self.acti1) * d_acti1\n",
    "        d_layer1 = np.dot(self.flatten.T, d_relu)\n",
    "        \n",
    "        self.layer1 -= lr * d_layer1\n",
    "        self.layer2 -= lr * d_layer2\n",
    "        \n",
    "    def loss(self):\n",
    "        pass\n",
    "        \n",
    "    def view(self):\n",
    "        \n",
    "        print('\\nLayers\\n----------------------------')\n",
    "        print('Layer1: \\t', self.layer1.shape)\n",
    "        print('Layer2: \\t', self.layer2.shape, end='\\n\\n')\n",
    "        print('Flatten: \\t', self.flatten.shape)\n",
    "        print('Inter1: \\t', self.inter1.shape)\n",
    "        print('Acti1:  \\t', self.acti1.shape)\n",
    "        print('Inter2: \\t', self.inter2.shape)\n",
    "        print('Acti2:  \\t', self.acti2.shape)\n",
    "        \n",
    "                                        \n",
    "custom_mnist = CustomMnist()\n",
    "\n",
    "\n",
    "EPOCHS = 1\n",
    "for epoch in range(EPOCHS):\n",
    "\n",
    "    pbar = tqdm(zip(train_images[:1000], train_labels[:1000]), total=1000, ncols=80)\n",
    "    pbar.set_description(f'Epoch: {epoch+1}/{EPOCHS}')\n",
    "    \n",
    "    for image, label in pbar:\n",
    "        \n",
    "        op = custom_mnist.forward(image)\n",
    "        custom_mnist.back_propagation(label)\n",
    "\n",
    "        label_arr = np.zeros((1, 10))\n",
    "        label_arr[0][label] = 1\n",
    "\n",
    "        loss = cross_entropy(op, label_arr)\n",
    "\n",
    "        pbar.set_postfix(Loss=f'{loss:.4f}')\n",
    "    \n",
    "    \n",
    "    \n",
    "# custom_mnist.view()"
   ]
  },
  {
   "cell_type": "code",
   "execution_count": 83,
   "id": "d0974649",
   "metadata": {},
   "outputs": [
    {
     "name": "stdout",
     "output_type": "stream",
     "text": [
      "0\n",
      "0\n"
     ]
    },
    {
     "data": {
      "image/png": "[encoded data removed]",
      "text/plain": [
       "<Figure size 432x288 with 1 Axes>"
      ]
     },
     "metadata": {
      "needs_background": "light"
     },
     "output_type": "display_data"
    }
   ],
   "source": [
    "idx = random.randint(0, len(test_images))\n",
    "a = custom_mnist.forward(test_images[idx])\n",
    "print(np.argmax(a))\n",
    "plt.imshow(test_images[idx], cmap='gray')\n",
    "print(test_labels[idx])"
   ]
  }
 ],
 "metadata": {
  "kernelspec": {
   "display_name": "Python 3 (ipykernel)",
   "language": "python",
   "name": "python3"
  },
  "language_info": {
   "codemirror_mode": {
    "name": "ipython",
    "version": 3
   },
   "file_extension": ".py",
   "mimetype": "text/x-python",
   "name": "python",
   "nbconvert_exporter": "python",
   "pygments_lexer": "ipython3",
   "version": "3.9.5"
  }
 },
 "nbformat": 4,
 "nbformat_minor": 5
}
