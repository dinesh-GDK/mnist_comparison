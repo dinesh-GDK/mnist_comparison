{
 "cells": [
  {
   "cell_type": "code",
   "execution_count": null,
   "id": "4fe52035",
   "metadata": {},
   "outputs": [],
   "source": [
    "# create requirements.txt"
   ]
  },
  {
   "cell_type": "code",
   "execution_count": 1,
   "id": "0554cc43",
   "metadata": {},
   "outputs": [],
   "source": [
    "import numpy as np\n",
    "import matplotlib.pyplot as plt\n",
    "import idx2numpy\n",
    "import random\n",
    "from urllib import request\n",
    "import shutil\n",
    "import gzip\n",
    "import os"
   ]
  },
  {
   "cell_type": "markdown",
   "id": "4ad227ff",
   "metadata": {},
   "source": [
    "# Prepare the Dataset"
   ]
  },
  {
   "cell_type": "markdown",
   "id": "d029a19c",
   "metadata": {},
   "source": [
    "### Download and unzip the MNIST dataset"
   ]
  },
  {
   "cell_type": "code",
   "execution_count": 8,
   "id": "5d54c32f",
   "metadata": {},
   "outputs": [],
   "source": [
    "base_url = 'http://yann.lecun.com/exdb/mnist/'\n",
    "\n",
    "dataset = ['train-images.idx3-ubyte', 'train-labels.idx1-ubyte',\n",
    "           't10k-images.idx3-ubyte', 't10k-labels.idx1-ubyte']\n",
    "\n",
    "for file in dataset:\n",
    "    \n",
    "    _file = file.replace('.', '-') + '.gz'\n",
    "    \n",
    "    if _file not in os.listdir():\n",
    "        with request.urlopen(f'{base_url}{_file}') as response, open(_file, 'wb') as out_file:\n",
    "            shutil.copyfileobj(response, out_file)\n",
    "    \n",
    "    if file not in os.listdir():\n",
    "        with gzip.open(_file, 'rb') as f_in, open(file, 'wb') as f_out:\n",
    "            shutil.copyfileobj(f_in, f_out)"
   ]
  },
  {
   "cell_type": "markdown",
   "id": "4fe04597",
   "metadata": {},
   "source": [
    "### Load the dataset"
   ]
  },
  {
   "cell_type": "code",
   "execution_count": 9,
   "id": "e07aa243",
   "metadata": {
    "scrolled": true
   },
   "outputs": [],
   "source": [
    "train_images = idx2numpy.convert_from_file(dataset[0]) / 255.0\n",
    "train_labels = idx2numpy.convert_from_file(dataset[1])\n",
    "test_images = idx2numpy.convert_from_file(dataset[2]) / 255.0\n",
    "test_labels = idx2numpy.convert_from_file(dataset[3])"
   ]
  },
  {
   "cell_type": "markdown",
   "id": "8a6a9739",
   "metadata": {},
   "source": [
    "### Plot a random sample"
   ]
  },
  {
   "cell_type": "code",
   "execution_count": 10,
   "id": "670ff57e",
   "metadata": {},
   "outputs": [
    {
     "data": {
      "text/plain": [
       "<matplotlib.image.AxesImage at 0x7f4ee0fbc4f0>"
      ]
     },
     "execution_count": 10,
     "metadata": {},
     "output_type": "execute_result"
    },
    {
     "data": {
      "image/png": "[encoded data removed]",
      "text/plain": [
       "<Figure size 432x288 with 1 Axes>"
      ]
     },
     "metadata": {
      "needs_background": "light"
     },
     "output_type": "display_data"
    }
   ],
   "source": [
    "idx = random.randint(0, len(train_images))\n",
    "plt.title(f'Label: {train_labels[idx]}')\n",
    "plt.imshow(train_images[idx], cmap='gray')"
   ]
  },
  {
   "cell_type": "code",
   "execution_count": 11,
   "id": "9dc17bc8",
   "metadata": {},
   "outputs": [],
   "source": [
    "def relu(vector):\n",
    "    vector[vector<0] = 0\n",
    "    return vector"
   ]
  },
  {
   "cell_type": "code",
   "execution_count": 32,
   "id": "b5bce57e",
   "metadata": {},
   "outputs": [],
   "source": [
    "def relu_derivative(vector):\n",
    "    vector[vector<=0] = 0\n",
    "    vector[vector>0] = 1\n",
    "    return vector"
   ]
  },
  {
   "cell_type": "code",
   "execution_count": 12,
   "id": "cb340089",
   "metadata": {},
   "outputs": [],
   "source": [
    "def softmax(vector):\n",
    "    exp = np.exp(vector)# - np.max(vector))\n",
    "    return exp / exp.sum()"
   ]
  },
  {
   "cell_type": "code",
   "execution_count": 13,
   "id": "539269fc",
   "metadata": {},
   "outputs": [],
   "source": [
    "def cross_entropy(predict, label):\n",
    "    return -np.sum(label*np.log(predict))"
   ]
  },
  {
   "cell_type": "code",
   "execution_count": 17,
   "id": "936b9819",
   "metadata": {},
   "outputs": [],
   "source": [
    "def cross_entropy_derivative(predict, label):\n",
    "    return -label/predict"
   ]
  },
  {
   "cell_type": "code",
   "execution_count": 18,
   "id": "8112229c",
   "metadata": {},
   "outputs": [],
   "source": [
    "def softmax_derivative(softmax):\n",
    "    s = softmax.reshape(-1,1)\n",
    "    return np.diagflat(s) - np.dot(s, s.T)"
   ]
  },
  {
   "cell_type": "code",
   "execution_count": 19,
   "id": "9b69f5f2",
   "metadata": {},
   "outputs": [
    {
     "name": "stdout",
     "output_type": "stream",
     "text": [
      "soft [0.10650698 0.10650698 0.78698604]\n",
      "loss 2.2395447662218846\n",
      "[-0.        -9.3890561 -0.       ]\n",
      "[[ 0.09516324 -0.01134374 -0.08381951]\n",
      " [-0.01134374  0.09516324 -0.08381951]\n",
      " [-0.08381951 -0.08381951  0.16763901]]\n",
      "[ 0.10650698 -0.89349302  0.78698604]\n",
      "[ 0.10650698 -0.89349302  0.78698604]\n",
      "[ 0.10650698 -0.89349302  0.78698604]\n"
     ]
    }
   ],
   "source": [
    "# Fixed softmax derivative which returns the jacobian instead\n",
    "# see https://stackoverflow.com/questions/33541930/how-to-implement-the-softmax-derivative-independently-from-any-loss-function \n",
    "\n",
    "v = np.array([-1.0, -1.0, 1.0]) # unscaled logits\n",
    "t = np.array([0.0,1.0,0.0])     # target probability distribution\n",
    "\n",
    "soft = softmax(v)           # [0.10650698, 0.10650698, 0.78698604]\n",
    "print('soft', soft)\n",
    "taa = cross_entropy(soft, t)       # 2.2395447662218846\n",
    "print('loss', taa)\n",
    "\n",
    "cross_der = cross_entropy_derivative(soft, t)\n",
    "print(cross_der)\n",
    "                            # [-0.       , -9.3890561, -0.       ]\n",
    "\n",
    "soft_der = softmax_derivative(soft)\n",
    "print(soft_der)\n",
    "\n",
    "#[[ 0.09516324, -0.01134374, -0.08381951],\n",
    "#[-0.01134374,  0.09516324, -0.08381951],\n",
    "#[-0.08381951, -0.08381951,  0.16763901]]\n",
    "\n",
    "\n",
    "# derivative using chain rule \n",
    "print(cross_der  @ soft_der)      # [[ 0.10650698, -0.89349302,  0.78698604]]\n",
    "print(np.dot(cross_der, soft_der))\n",
    "\n",
    "\n",
    "\n",
    "# # Derivative using analytical derivation \n",
    "print(soft - t)                    # [ 0.10650698, -0.89349302,  0.78698604]"
   ]
  },
  {
   "cell_type": "code",
   "execution_count": 7,
   "id": "3b742a40",
   "metadata": {},
   "outputs": [],
   "source": [
    "# image -> flatten -> layer1 -> inter1 -> acti1 -> layer2 -> inter2 -> acti2 -> loss\n",
    "#           1x784    784x128    1x128     1x128    128x10    1x10       1x10     1"
   ]
  },
  {
   "cell_type": "code",
   "execution_count": 59,
   "id": "585c470a",
   "metadata": {},
   "outputs": [
    {
     "name": "stdout",
     "output_type": "stream",
     "text": [
      "(1, 10)\n",
      "\n",
      "Layers\n",
      "----------------------------\n",
      "Layer1: \t (784, 128)\n",
      "Layer2: \t (128, 10)\n",
      "\n",
      "Flatten: \t (1, 784)\n",
      "Inter1: \t (1, 128)\n",
      "Acti1:  \t (1, 128)\n",
      "Inter2: \t (1, 10)\n",
      "Acti2:  \t (1, 10)\n"
     ]
    }
   ],
   "source": [
    "class CustomMnist:\n",
    "    \n",
    "    def __init__(self, input_shape=(28, 28)):\n",
    "        input_shape = input_shape[0]*input_shape[1]\n",
    "        self.layer1 = np.random.uniform(-1.0, 1.0, size=(input_shape, 128))/np.sqrt(input_shape*128)\n",
    "        self.layer2 = np.random.uniform(-1.0, 1.0, size=(128, 10))/np.sqrt(128*10)\n",
    "        \n",
    "        self.layer1 = self.layer1.astype(np.float32)\n",
    "        self.layer2 = self.layer2.astype(np.float32)\n",
    "        \n",
    "    def forward(self, image):\n",
    "        \n",
    "        self.flatten = np.reshape(image, (1, image.shape[0]*image.shape[1]))\n",
    "        self.inter1 = np.dot(self.flatten, self.layer1)\n",
    "        self.acti1 = relu(self.inter1)\n",
    "        self.inter2 = np.dot(self.acti1, self.layer2)        \n",
    "        self.acti2 = softmax(self.inter2)\n",
    "        \n",
    "        return self.acti2\n",
    "    \n",
    "    def back_propagation(self, image, label):\n",
    "        \n",
    "        label_arr = np.zeros((1, 10))\n",
    "        label_arr[0][label] = 1\n",
    "        \n",
    "        loss = cross_entropy(self.acti2, label_arr)\n",
    "        \n",
    "        d_cross_entropy = cross_entropy_derivative(self.acti2, label_arr)\n",
    "#         d_softmax = softmax_derivative(self.acti2)\n",
    "        d_so = d_cross_entropy.dot(softmax_derivative(self.inter2))\n",
    "        \n",
    "        print(d_so.shape)\n",
    "        \n",
    "#         delta2 = np.dot(d_cross_entropy, d_softmax)\n",
    "#         print(delta2.shape)\n",
    "        \n",
    "#         d_layer2 = np.dot(self.acti1.T, delta2)\n",
    "#         print(d_layer2.shape)\n",
    "        \n",
    "#         print(relu_derivative(self.acti1).shape)\n",
    "        \n",
    "#         a = np.dot()\n",
    "        \n",
    "#         d_relu = np.dot(relu_derivative(self.acti1), )\n",
    "        \n",
    "#         delta1 = np.dot(d_relu, )\n",
    "        \n",
    "        \n",
    "        \n",
    "#         print(d_relu.shape)\n",
    "#         print(self.acti2 - label_arr)\n",
    "        \n",
    "        \n",
    "    def view(self):\n",
    "        \n",
    "        print('\\nLayers\\n----------------------------')\n",
    "        print('Layer1: \\t', self.layer1.shape)\n",
    "        print('Layer2: \\t', self.layer2.shape, end='\\n\\n')\n",
    "        print('Flatten: \\t', self.flatten.shape)\n",
    "        print('Inter1: \\t', self.inter1.shape)\n",
    "        print('Acti1:  \\t', self.acti1.shape)\n",
    "        print('Inter2: \\t', self.inter2.shape)\n",
    "        print('Acti2:  \\t', self.acti2.shape)\n",
    "        \n",
    "                                        \n",
    "custom_mnist = CustomMnist()\n",
    "\n",
    "op = custom_mnist.forward(train_images[0])\n",
    "custom_mnist.back_propagation(train_images[0], train_labels[0])\n",
    "\n",
    "custom_mnist.view()"
   ]
  },
  {
   "cell_type": "code",
   "execution_count": null,
   "id": "d0974649",
   "metadata": {},
   "outputs": [],
   "source": [
    "28*28"
   ]
  }
 ],
 "metadata": {
  "kernelspec": {
   "display_name": "Python 3 (ipykernel)",
   "language": "python",
   "name": "python3"
  },
  "language_info": {
   "codemirror_mode": {
    "name": "ipython",
    "version": 3
   },
   "file_extension": ".py",
   "mimetype": "text/x-python",
   "name": "python",
   "nbconvert_exporter": "python",
   "pygments_lexer": "ipython3",
   "version": "3.9.5"
  }
 },
 "nbformat": 4,
 "nbformat_minor": 5
}
