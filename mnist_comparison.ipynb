{
  "nbformat": 4,
  "nbformat_minor": 5,
  "metadata": {
    "kernelspec": {
      "display_name": "Python 3 (ipykernel)",
      "language": "python",
      "name": "python3"
    },
    "language_info": {
      "codemirror_mode": {
        "name": "ipython",
        "version": 3
      },
      "file_extension": ".py",
      "mimetype": "text/x-python",
      "name": "python",
      "nbconvert_exporter": "python",
      "pygments_lexer": "ipython3",
      "version": "3.9.5"
    },
    "colab": {
      "name": "mnist_comparison.ipynb",
      "provenance": [],
      "collapsed_sections": [
        "ddcca1a8",
        "616d66e2",
        "b79a2bdb"
      ]
    }
  },
  "cells": [
    {
      "cell_type": "markdown",
      "metadata": {
        "id": "1fa198ba"
      },
      "source": [
        "# Comparison of Custom NumPy, PyTorch and TensorFlow models"
      ],
      "id": "1fa198ba"
    },
    {
      "cell_type": "code",
      "metadata": {
        "id": "0554cc43"
      },
      "source": [
        "import numpy as np\n",
        "import matplotlib.pyplot as plt\n",
        "import idx2numpy\n",
        "import random\n",
        "from urllib import request\n",
        "import shutil\n",
        "import gzip\n",
        "import os\n",
        "from tqdm import tqdm\n",
        "from time import time"
      ],
      "id": "0554cc43",
      "execution_count": 1,
      "outputs": []
    },
    {
      "cell_type": "markdown",
      "metadata": {
        "id": "4ad227ff"
      },
      "source": [
        "## Prepare the Dataset"
      ],
      "id": "4ad227ff"
    },
    {
      "cell_type": "markdown",
      "metadata": {
        "id": "d029a19c"
      },
      "source": [
        "### Download and unzip the MNIST dataset"
      ],
      "id": "d029a19c"
    },
    {
      "cell_type": "code",
      "metadata": {
        "id": "5d54c32f"
      },
      "source": [
        "base_url = 'http://yann.lecun.com/exdb/mnist/'\n",
        "\n",
        "dataset = ['train-images.idx3-ubyte', 'train-labels.idx1-ubyte',\n",
        "           't10k-images.idx3-ubyte', 't10k-labels.idx1-ubyte']\n",
        "\n",
        "for file in dataset:\n",
        "    \n",
        "    _file = file.replace('.', '-') + '.gz'\n",
        "    \n",
        "    if _file not in os.listdir():\n",
        "        with request.urlopen(f'{base_url}{_file}') as response, open(_file, 'wb') as out_file:\n",
        "            shutil.copyfileobj(response, out_file)\n",
        "    \n",
        "    if file not in os.listdir():\n",
        "        with gzip.open(_file, 'rb') as f_in, open(file, 'wb') as f_out:\n",
        "            shutil.copyfileobj(f_in, f_out)"
      ],
      "id": "5d54c32f",
      "execution_count": 2,
      "outputs": []
    },
    {
      "cell_type": "markdown",
      "metadata": {
        "id": "4fe04597"
      },
      "source": [
        "### Load the dataset and normalize"
      ],
      "id": "4fe04597"
    },
    {
      "cell_type": "code",
      "metadata": {
        "scrolled": true,
        "id": "e07aa243"
      },
      "source": [
        "train_images = idx2numpy.convert_from_file(dataset[0]) / 255.0\n",
        "train_labels = idx2numpy.convert_from_file(dataset[1])\n",
        "test_images  = idx2numpy.convert_from_file(dataset[2]) / 255.0\n",
        "test_labels  = idx2numpy.convert_from_file(dataset[3])"
      ],
      "id": "e07aa243",
      "execution_count": 3,
      "outputs": []
    },
    {
      "cell_type": "markdown",
      "metadata": {
        "id": "8a6a9739"
      },
      "source": [
        "### Plot a random sample"
      ],
      "id": "8a6a9739"
    },
    {
      "cell_type": "code",
      "metadata": {
        "colab": {
          "base_uri": "https://localhost:8080/",
          "height": 298
        },
        "id": "670ff57e",
        "outputId": "5a62e225-8540-4ac5-d9e7-d27005dbeaa3"
      },
      "source": [
        "idx = random.randint(0, len(train_images))\n",
        "plt.title(f'Label: {train_labels[idx]}')\n",
        "plt.imshow(train_images[idx], cmap='gray')"
      ],
      "id": "670ff57e",
      "execution_count": 4,
      "outputs": [
        {
          "output_type": "execute_result",
          "data": {
            "text/plain": [
              "<matplotlib.image.AxesImage at 0x7f69af192f90>"
            ]
          },
          "metadata": {},
          "execution_count": 4
        },
        {
          "output_type": "display_data",
          "data": {
            "image/png": "[encoded data removed]",
            "text/plain": [
              "<Figure size 432x288 with 1 Axes>"
            ]
          },
          "metadata": {
            "needs_background": "light"
          }
        }
      ]
    },
    {
      "cell_type": "markdown",
      "metadata": {
        "id": "ec733cd7"
      },
      "source": [
        "### Define the common parameters"
      ],
      "id": "ec733cd7"
    },
    {
      "cell_type": "code",
      "metadata": {
        "scrolled": true,
        "id": "c91fc220"
      },
      "source": [
        "EPOCHS = 10\n",
        "LR = 0.01"
      ],
      "id": "c91fc220",
      "execution_count": 5,
      "outputs": []
    },
    {
      "cell_type": "markdown",
      "metadata": {
        "id": "eea27ed0"
      },
      "source": [
        "## NumPy Implementation"
      ],
      "id": "eea27ed0"
    },
    {
      "cell_type": "code",
      "metadata": {
        "id": "e55fdd72"
      },
      "source": [
        "DTYPE = np.float32"
      ],
      "id": "e55fdd72",
      "execution_count": 6,
      "outputs": []
    },
    {
      "cell_type": "markdown",
      "metadata": {
        "id": "70a88ae6"
      },
      "source": [
        "### Define the required functions"
      ],
      "id": "70a88ae6"
    },
    {
      "cell_type": "code",
      "metadata": {
        "id": "221aec9c"
      },
      "source": [
        "def label_to_onehot(index, num_of_classes=10):\n",
        "    label = np.zeros((1, num_of_classes))\n",
        "    label[0][index] = 1\n",
        "    return label"
      ],
      "id": "221aec9c",
      "execution_count": 7,
      "outputs": []
    },
    {
      "cell_type": "code",
      "metadata": {
        "id": "9dc17bc8"
      },
      "source": [
        "def relu(vector):\n",
        "    vector[vector<0] = 0\n",
        "    return vector"
      ],
      "id": "9dc17bc8",
      "execution_count": 8,
      "outputs": []
    },
    {
      "cell_type": "code",
      "metadata": {
        "id": "b5bce57e"
      },
      "source": [
        "def relu_derivative(vector):\n",
        "    vector[vector<=0] = 0.0\n",
        "    vector[vector>0] = 1.0\n",
        "    return vector"
      ],
      "id": "b5bce57e",
      "execution_count": 9,
      "outputs": []
    },
    {
      "cell_type": "code",
      "metadata": {
        "id": "cb340089"
      },
      "source": [
        "def softmax(vector):\n",
        "    exp = np.exp(vector - np.max(vector))\n",
        "    return exp / exp.sum()"
      ],
      "id": "cb340089",
      "execution_count": 10,
      "outputs": []
    },
    {
      "cell_type": "code",
      "metadata": {
        "id": "c2104c86"
      },
      "source": [
        "def cross_entropy(predict, label):\n",
        "    return -np.sum(label*np.log(predict)).astype(DTYPE)"
      ],
      "id": "c2104c86",
      "execution_count": 11,
      "outputs": []
    },
    {
      "cell_type": "code",
      "metadata": {
        "id": "936b9819"
      },
      "source": [
        "def cross_entropy_derivative(predict, label):\n",
        "    return (-label/predict).astype(DTYPE)"
      ],
      "id": "936b9819",
      "execution_count": 12,
      "outputs": []
    },
    {
      "cell_type": "code",
      "metadata": {
        "id": "8112229c"
      },
      "source": [
        "def softmax_derivative(softmax):\n",
        "    s = softmax.reshape(-1,1)\n",
        "    return np.diagflat(s) - np.dot(s, s.T)"
      ],
      "id": "8112229c",
      "execution_count": 13,
      "outputs": []
    },
    {
      "cell_type": "markdown",
      "metadata": {
        "id": "c6849038"
      },
      "source": [
        "### Define the Custom Model"
      ],
      "id": "c6849038"
    },
    {
      "cell_type": "code",
      "metadata": {
        "id": "585c470a"
      },
      "source": [
        "class CustomMnist:\n",
        "    \n",
        "    def __init__(self, input_shape=(28, 28)):\n",
        "        \n",
        "        input_shape = input_shape[0]*input_shape[1]\n",
        "        self.layer1 = np.random.uniform(-1.0, 1.0, size=(input_shape, 128))/np.sqrt(input_shape*128)\n",
        "        self.layer2 = np.random.uniform(-1.0, 1.0, size=(128, 10))/np.sqrt(128*10)\n",
        "        \n",
        "        self.bias1 = np.random.uniform(-1.0, 1.0, size=(1, 128))/np.sqrt(128)\n",
        "        self.bias2 = np.random.uniform(-1.0, 1.0, size=(1, 10))/np.sqrt(10)\n",
        "        \n",
        "        self.layer1 = self.layer1.astype(DTYPE)\n",
        "        self.layer2 = self.layer2.astype(DTYPE)\n",
        "        self.bias1 = self.bias1.astype(DTYPE)\n",
        "        self.bias2 = self.bias2.astype(DTYPE)\n",
        "        \n",
        "    def forward(self, image):\n",
        "        \n",
        "        self.flatten = np.reshape(image.astype(DTYPE), (1, image.shape[0]*image.shape[1]))\n",
        "        self.inter1 = np.dot(self.flatten, self.layer1) + self.bias1\n",
        "        self.acti1 = relu(self.inter1)\n",
        "        self.inter2 = np.dot(self.acti1, self.layer2) + self.bias2\n",
        "        self.acti2 = softmax(self.inter2)\n",
        "        \n",
        "        return self.acti2\n",
        "    \n",
        "    def backward(self, label):\n",
        "        \n",
        "        temp1 = np.dot(self.layer2, label.T)\n",
        "        temp2 = np.dot(self.layer1, temp1)\n",
        "        temp2 = np.resize(temp2, (28, 28))\n",
        "        \n",
        "        return temp2\n",
        "        \n",
        "    def back_propagation(self, label):\n",
        "        \n",
        "        d_cross_entropy = cross_entropy_derivative(self.acti2, label)        \n",
        "        self.d_softmax = np.dot(d_cross_entropy, softmax_derivative(self.acti2))\n",
        "        self.d_layer2 = np.dot(self.acti1.T, self.d_softmax)\n",
        "        d_acti1 = np.dot(self.d_softmax, self.layer2.T)\n",
        "        self.d_relu = relu_derivative(self.acti1) * d_acti1\n",
        "        self.d_layer1 = np.dot(self.flatten.T, self.d_relu)\n",
        "        \n",
        "    def optimize(self, lr):\n",
        "        \n",
        "        self.layer1 -= lr * self.d_layer1\n",
        "        self.layer2 -= lr * self.d_layer2\n",
        "        \n",
        "        self.bias1 -= lr * self.d_relu\n",
        "        self.bias2 -= lr * self.d_softmax\n",
        "        \n",
        "    def view(self):\n",
        "        \n",
        "        print('\\nLayers\\n----------------------------')\n",
        "        print('Layer1: \\t', self.layer1.shape)\n",
        "        print('Layer2: \\t', self.layer2.shape, end='\\n\\n')\n",
        "        print('Flatten: \\t', self.flatten.shape)\n",
        "        print('Inter1: \\t', self.inter1.shape)\n",
        "        print('Acti1:  \\t', self.acti1.shape)\n",
        "        print('Inter2: \\t', self.inter2.shape)\n",
        "        print('Acti2:  \\t', self.acti2.shape)"
      ],
      "id": "585c470a",
      "execution_count": 14,
      "outputs": []
    },
    {
      "cell_type": "markdown",
      "metadata": {
        "id": "79af6681"
      },
      "source": [
        "### Train the custom model"
      ],
      "id": "79af6681"
    },
    {
      "cell_type": "code",
      "metadata": {
        "colab": {
          "base_uri": "https://localhost:8080/",
          "height": 466
        },
        "id": "ae10bff0",
        "outputId": "98d02631-2b91-4acf-c395-c10f97738488"
      },
      "source": [
        "custom_mnist = CustomMnist()\n",
        "\n",
        "losses, accuracies = list(), list()\n",
        "\n",
        "tic = time()\n",
        "for epoch in range(EPOCHS):\n",
        "    \n",
        "    b='{l_bar}{bar}| {n_fmt}/{total_fmt} [{elapsed}<{remaining}{postfix}]'\n",
        "    pbar = tqdm(zip(train_images, train_labels),\n",
        "                desc=f'Epochs: {epoch+1}/{EPOCHS}',\n",
        "                total=len(train_images), ncols=80, bar_format=b)\n",
        "    \n",
        "    loss, accuracy = 0, 0\n",
        "    for it, (image, label) in enumerate(pbar, 1):\n",
        "        \n",
        "        label = label_to_onehot(label)\n",
        "        \n",
        "        output = custom_mnist.forward(image)\n",
        "        custom_loss = cross_entropy(output, label)\n",
        "        custom_mnist.back_propagation(label)\n",
        "        custom_mnist.optimize(lr=LR)\n",
        "        \n",
        "        loss += custom_loss\n",
        "        if np.argmax(output) == np.argmax(label):\n",
        "            accuracy += 1 \n",
        "        \n",
        "        pbar.set_postfix(Loss=f'{(loss/it):.4f}')\n",
        "        \n",
        "    losses.append(loss/len(train_labels))\n",
        "    accuracies.append(accuracy/len(train_labels))\n",
        "\n",
        "print(f'Time taken to train: {((time()-tic)/60):0.2f} minutes')\n",
        "\n",
        "loss_plot = plt.plot(losses, label='loss')\n",
        "acc_plot  = plt.plot(accuracies, label='accuracy')\n",
        "plt.xlabel('Epochs')\n",
        "plt.ylim(-0.1, 1.1)\n",
        "plt.legend(loc='upper left')\n",
        "plt.grid()"
      ],
      "id": "ae10bff0",
      "execution_count": 15,
      "outputs": [
        {
          "output_type": "stream",
          "name": "stderr",
          "text": [
            "Epochs: 1/10: 100%|█████████████████████| 60000/60000 [05:03<00:00, Loss=0.2505]\n",
            "Epochs: 2/10: 100%|█████████████████████| 60000/60000 [05:01<00:00, Loss=0.1055]\n",
            "Epochs: 3/10: 100%|█████████████████████| 60000/60000 [05:07<00:00, Loss=0.0753]\n",
            "Epochs: 4/10: 100%|█████████████████████| 60000/60000 [05:03<00:00, Loss=0.0584]\n",
            "Epochs: 5/10: 100%|█████████████████████| 60000/60000 [04:48<00:00, Loss=0.0452]\n",
            "Epochs: 6/10: 100%|█████████████████████| 60000/60000 [04:47<00:00, Loss=0.0363]\n",
            "Epochs: 7/10: 100%|█████████████████████| 60000/60000 [04:42<00:00, Loss=0.0295]\n",
            "Epochs: 8/10: 100%|█████████████████████| 60000/60000 [04:33<00:00, Loss=0.0258]\n",
            "Epochs: 9/10: 100%|█████████████████████| 60000/60000 [04:29<00:00, Loss=0.0200]\n",
            "Epochs: 10/10: 100%|████████████████████| 60000/60000 [04:41<00:00, Loss=0.0174]\n"
          ]
        },
        {
          "output_type": "stream",
          "name": "stdout",
          "text": [
            "Time taken to train: 48.32 minutes\n"
          ]
        },
        {
          "output_type": "display_data",
          "data": {
            "image/png": "[encoded data removed]",
            "text/plain": [
              "<Figure size 432x288 with 1 Axes>"
            ]
          },
          "metadata": {
            "needs_background": "light"
          }
        }
      ]
    },
    {
      "cell_type": "markdown",
      "metadata": {
        "id": "30cdccfe"
      },
      "source": [
        "### Evaluate the model"
      ],
      "id": "30cdccfe"
    },
    {
      "cell_type": "code",
      "metadata": {
        "colab": {
          "base_uri": "https://localhost:8080/"
        },
        "id": "e5c064e2",
        "outputId": "d40da239-bcd0-4334-dc34-997f4ef8ba90"
      },
      "source": [
        "b='{l_bar}{bar}| {n_fmt}/{total_fmt} [{elapsed}<{remaining}{postfix}]'\n",
        "pbar = tqdm(zip(test_images, test_labels),\n",
        "            desc='Evaluating',\n",
        "            total=len(test_images), ncols=80, bar_format=b)\n",
        "\n",
        "loss, accuracy = 0, 0\n",
        "for it, (image, label) in enumerate(pbar, 1):\n",
        "\n",
        "    label = label_to_onehot(label)\n",
        "\n",
        "    output = custom_mnist.forward(image)\n",
        "    loss += cross_entropy(output, label)\n",
        "    \n",
        "    if(np.argmax(output) == np.argmax(label)):\n",
        "        accuracy += 1\n",
        "\n",
        "    pbar.set_postfix(Loss=f'{(loss/it):.4f}')\n",
        "    \n",
        "print(f'\\nNumpy model accuracy on test set: {(100*accuracy/len(test_labels)):.2f}%')\n",
        "print(f'Numpy model loss on test set: {(loss/len(test_labels)):.2f}')"
      ],
      "id": "e5c064e2",
      "execution_count": 16,
      "outputs": [
        {
          "output_type": "stream",
          "name": "stderr",
          "text": [
            "Evaluating: 100%|███████████████████████| 10000/10000 [00:37<00:00, Loss=0.1170]"
          ]
        },
        {
          "output_type": "stream",
          "name": "stdout",
          "text": [
            "\n",
            "Numpy model accuracy on test set: 97.08%\n",
            "Numpy model loss on test set: 0.12\n"
          ]
        },
        {
          "output_type": "stream",
          "name": "stderr",
          "text": [
            "\n"
          ]
        }
      ]
    },
    {
      "cell_type": "markdown",
      "metadata": {
        "id": "0344f85e"
      },
      "source": [
        "### Random test"
      ],
      "id": "0344f85e"
    },
    {
      "cell_type": "code",
      "metadata": {
        "colab": {
          "base_uri": "https://localhost:8080/",
          "height": 299
        },
        "id": "d0974649",
        "outputId": "f6cb88f5-ce84-4b1d-bd70-c0794779cf86"
      },
      "source": [
        "idx = random.randint(0, len(test_images))\n",
        "forward = np.argmax(custom_mnist.forward(test_images[idx]))\n",
        "print(f'Actual: {test_labels[idx]}, Predicted: {forward}')\n",
        "plt.imshow(test_images[idx], cmap='gray')"
      ],
      "id": "d0974649",
      "execution_count": 17,
      "outputs": [
        {
          "output_type": "stream",
          "name": "stdout",
          "text": [
            "Actual: 0, Predicted: 0\n"
          ]
        },
        {
          "output_type": "execute_result",
          "data": {
            "text/plain": [
              "<matplotlib.image.AxesImage at 0x7f69a69a5fd0>"
            ]
          },
          "metadata": {},
          "execution_count": 17
        },
        {
          "output_type": "display_data",
          "data": {
            "image/png": "[encoded data removed]",
            "text/plain": [
              "<Figure size 432x288 with 1 Axes>"
            ]
          },
          "metadata": {
            "needs_background": "light"
          }
        }
      ]
    },
    {
      "cell_type": "markdown",
      "metadata": {
        "id": "766f1900"
      },
      "source": [
        "### Backward pass"
      ],
      "id": "766f1900"
    },
    {
      "cell_type": "code",
      "metadata": {
        "colab": {
          "base_uri": "https://localhost:8080/",
          "height": 250
        },
        "id": "4f244f93",
        "outputId": "7303b1d6-a9b8-4643-de88-520c3e82dbb2"
      },
      "source": [
        "idx = random.randint(0, len(test_images))\n",
        "\n",
        "label = label_to_onehot(test_labels[idx])\n",
        "forward = np.argmax(custom_mnist.forward(test_images[idx]))\n",
        "back = custom_mnist.backward(label)\n",
        "\n",
        "print(f'Actual: {test_labels[idx]}, Predicted: {forward}')\n",
        "\n",
        "fig, ax = plt.subplots(1, 2)\n",
        "ax[0].set_title(f'Actual Image')\n",
        "ax[1].set_title(f'Backward pass')\n",
        "ax[0].imshow(test_images[idx], cmap='gray')\n",
        "ax[1].imshow(back, cmap='gray')"
      ],
      "id": "4f244f93",
      "execution_count": 18,
      "outputs": [
        {
          "output_type": "stream",
          "name": "stdout",
          "text": [
            "Actual: 8, Predicted: 8\n"
          ]
        },
        {
          "output_type": "execute_result",
          "data": {
            "text/plain": [
              "<matplotlib.image.AxesImage at 0x7f69a67e0150>"
            ]
          },
          "metadata": {},
          "execution_count": 18
        },
        {
          "output_type": "display_data",
          "data": {
            "image/png": "[encoded data removed]",
            "text/plain": [
              "<Figure size 432x288 with 2 Axes>"
            ]
          },
          "metadata": {
            "needs_background": "light"
          }
        }
      ]
    },
    {
      "cell_type": "markdown",
      "metadata": {
        "id": "020c6252"
      },
      "source": [
        "***"
      ],
      "id": "020c6252"
    },
    {
      "cell_type": "markdown",
      "metadata": {
        "id": "dbbd1213"
      },
      "source": [
        "## PyTorch Implementation"
      ],
      "id": "dbbd1213"
    },
    {
      "cell_type": "code",
      "metadata": {
        "id": "4da34fd0"
      },
      "source": [
        "os.environ['CUDA_VISIBLE_DEVICES'] = ''\n",
        "import torch\n",
        "from torch.utils.data import TensorDataset, DataLoader\n",
        "from torch import nn"
      ],
      "id": "4da34fd0",
      "execution_count": 19,
      "outputs": []
    },
    {
      "cell_type": "markdown",
      "metadata": {
        "id": "11b5beb2"
      },
      "source": [
        "### Load the dataset in torch"
      ],
      "id": "11b5beb2"
    },
    {
      "cell_type": "code",
      "metadata": {
        "id": "accdd08b"
      },
      "source": [
        "torch_train_images = torch.Tensor(np.copy(train_images))\n",
        "torch_train_labels = torch.Tensor(np.copy(train_labels))\n",
        "\n",
        "torch_train_dataset = TensorDataset(torch_train_images, torch_train_labels)\n",
        "torch_train_dataloader = DataLoader(torch_train_dataset)"
      ],
      "id": "accdd08b",
      "execution_count": 20,
      "outputs": []
    },
    {
      "cell_type": "markdown",
      "metadata": {
        "id": "4d7cdad6"
      },
      "source": [
        "### Define the model, loss and optimizer"
      ],
      "id": "4d7cdad6"
    },
    {
      "cell_type": "code",
      "metadata": {
        "id": "83af11b4"
      },
      "source": [
        "class TorchMnist(nn.Module):\n",
        "\n",
        "    def __init__(self, input_shape=(28, 28)):\n",
        "        super(TorchMnist, self).__init__()\n",
        "        \n",
        "        self.fc1 = nn.Linear(input_shape[0]*input_shape[1], 120)\n",
        "        self.fc2 = nn.Linear(120, 10)\n",
        "\n",
        "    def forward(self, x):\n",
        "        \n",
        "        x = torch.flatten(x)\n",
        "        x = nn.functional.relu(self.fc1(x))\n",
        "        x = nn.functional.softmax(self.fc2(x), dim=0)\n",
        "        \n",
        "        return x\n",
        "    \n",
        "torch_mnist = TorchMnist()\n",
        "torch_loss = nn.CrossEntropyLoss()\n",
        "torch_optimizer = torch.optim.SGD(torch_mnist.parameters(), lr=0.01)"
      ],
      "id": "83af11b4",
      "execution_count": 21,
      "outputs": []
    },
    {
      "cell_type": "markdown",
      "metadata": {
        "id": "b9ce6d14"
      },
      "source": [
        "### Train the model"
      ],
      "id": "b9ce6d14"
    },
    {
      "cell_type": "code",
      "metadata": {
        "colab": {
          "base_uri": "https://localhost:8080/"
        },
        "id": "a25bb38f",
        "outputId": "719e942e-bd2a-4279-bb68-94beae481129"
      },
      "source": [
        "tic = time()\n",
        "for epoch in range(EPOCHS):\n",
        "    \n",
        "    b='{l_bar}{bar}| {n_fmt}/{total_fmt} [{elapsed}<{remaining}{postfix}]'\n",
        "    pbar = tqdm(torch_train_dataloader,\n",
        "                desc=f'Epochs: {epoch+1}/{EPOCHS}',\n",
        "                total=len(train_images), ncols=80, bar_format=b)\n",
        "    \n",
        "    running_loss = 0\n",
        "    for it, (image, label) in enumerate(pbar, 1):\n",
        "        \n",
        "        torch_optimizer.zero_grad()\n",
        "        \n",
        "        output = torch_mnist(image).unsqueeze(0)        \n",
        "        loss = torch_loss(output, label.type(torch.long))\n",
        "        loss.backward()\n",
        "        torch_optimizer.step()\n",
        "        \n",
        "        running_loss += loss\n",
        "        pbar.set_postfix(Loss=f'{(running_loss/it):.4f}')\n",
        "\n",
        "print(f'Time taken to train: {((time()-tic)/60):0.2f} minutes')"
      ],
      "id": "a25bb38f",
      "execution_count": 22,
      "outputs": [
        {
          "output_type": "stream",
          "name": "stderr",
          "text": [
            "Epochs: 1/10: 100%|█████████████████████| 60000/60000 [05:26<00:00, Loss=1.6877]\n",
            "Epochs: 2/10: 100%|█████████████████████| 60000/60000 [04:55<00:00, Loss=1.6092]\n",
            "Epochs: 3/10: 100%|█████████████████████| 60000/60000 [04:58<00:00, Loss=1.5256]\n",
            "Epochs: 4/10: 100%|█████████████████████| 60000/60000 [04:56<00:00, Loss=1.5116]\n",
            "Epochs: 5/10: 100%|█████████████████████| 60000/60000 [05:00<00:00, Loss=1.5033]\n",
            "Epochs: 6/10: 100%|█████████████████████| 60000/60000 [05:02<00:00, Loss=1.4973]\n",
            "Epochs: 7/10: 100%|█████████████████████| 60000/60000 [05:10<00:00, Loss=1.4926]\n",
            "Epochs: 8/10: 100%|█████████████████████| 60000/60000 [05:07<00:00, Loss=1.4893]\n",
            "Epochs: 9/10: 100%|█████████████████████| 60000/60000 [05:04<00:00, Loss=1.4864]\n",
            "Epochs: 10/10: 100%|████████████████████| 60000/60000 [05:05<00:00, Loss=1.4843]"
          ]
        },
        {
          "output_type": "stream",
          "name": "stdout",
          "text": [
            "Time taken to train: 50.79 minutes\n"
          ]
        },
        {
          "output_type": "stream",
          "name": "stderr",
          "text": [
            "\n"
          ]
        }
      ]
    },
    {
      "cell_type": "markdown",
      "metadata": {
        "id": "f64f7b8f"
      },
      "source": [
        "### Load the testing data"
      ],
      "id": "f64f7b8f"
    },
    {
      "cell_type": "code",
      "metadata": {
        "id": "d43fbae0"
      },
      "source": [
        "torch_test_images = torch.Tensor(np.copy(test_images))\n",
        "torch_test_labels = torch.Tensor(np.copy(test_labels))\n",
        "\n",
        "torch_test_dataset = TensorDataset(torch_test_images, torch_test_labels)\n",
        "torch_test_dataloader = DataLoader(torch_test_dataset)"
      ],
      "id": "d43fbae0",
      "execution_count": 23,
      "outputs": []
    },
    {
      "cell_type": "markdown",
      "metadata": {
        "id": "f77e3fac"
      },
      "source": [
        "### Evaluate the model"
      ],
      "id": "f77e3fac"
    },
    {
      "cell_type": "code",
      "metadata": {
        "id": "e84a1e93",
        "colab": {
          "base_uri": "https://localhost:8080/"
        },
        "outputId": "4db9ed23-7bb7-4808-f1a3-dba9b3347983"
      },
      "source": [
        "b='{l_bar}{bar}| {n_fmt}/{total_fmt} [{elapsed}<{remaining}{postfix}]'\n",
        "pbar = tqdm(torch_test_dataloader,\n",
        "            desc='Evaluating',\n",
        "            total=len(test_images), ncols=80, bar_format=b)\n",
        "\n",
        "loss, accuracy = 0, 0\n",
        "for image, label in pbar:\n",
        "\n",
        "    output = torch_mnist(image).unsqueeze(0)\n",
        "    loss += torch_loss(output, label.type(torch.long))\n",
        "    \n",
        "    output = np.argmax(output.detach().numpy())\n",
        "    \n",
        "    if output == label:\n",
        "        accuracy += 1\n",
        "\n",
        "    pbar.set_postfix(Loss=f'{(loss/it):.4f}') \n",
        "    \n",
        "print(f'\\nPyTorch model accuracy on test set: {(100*accuracy/len(test_labels)):.2f}%')\n",
        "print(f'PyTorch model loss on test set: {(loss/len(test_labels)):.2f}')"
      ],
      "id": "e84a1e93",
      "execution_count": 24,
      "outputs": [
        {
          "output_type": "stream",
          "name": "stderr",
          "text": [
            "Evaluating: 100%|███████████████████████| 10000/10000 [00:33<00:00, Loss=0.2485]"
          ]
        },
        {
          "output_type": "stream",
          "name": "stdout",
          "text": [
            "\n",
            "PyTorch model accuracy on test set: 97.14%\n",
            "PyTorch model loss on test set: 1.49\n"
          ]
        },
        {
          "output_type": "stream",
          "name": "stderr",
          "text": [
            "\n"
          ]
        }
      ]
    },
    {
      "cell_type": "markdown",
      "metadata": {
        "id": "ddcca1a8"
      },
      "source": [
        "### Random test"
      ],
      "id": "ddcca1a8"
    },
    {
      "cell_type": "code",
      "metadata": {
        "id": "011bd455",
        "colab": {
          "base_uri": "https://localhost:8080/",
          "height": 0
        },
        "outputId": "54088968-6dc4-41b3-a5c9-e5be61e8313e"
      },
      "source": [
        "idx = random.randint(0, len(test_images))\n",
        "forward = np.argmax(torch_mnist(image).unsqueeze(0).detach().numpy())\n",
        "print(f'Actual: {test_labels[idx]}, Predicted: {forward}')\n",
        "plt.imshow(test_images[idx], cmap='gray')"
      ],
      "id": "011bd455",
      "execution_count": 25,
      "outputs": [
        {
          "output_type": "stream",
          "name": "stdout",
          "text": [
            "Actual: 4, Predicted: 6\n"
          ]
        },
        {
          "output_type": "execute_result",
          "data": {
            "text/plain": [
              "<matplotlib.image.AxesImage at 0x7f694d50ca50>"
            ]
          },
          "metadata": {},
          "execution_count": 25
        },
        {
          "output_type": "display_data",
          "data": {
            "image/png": "[encoded data removed]",
            "text/plain": [
              "<Figure size 432x288 with 1 Axes>"
            ]
          },
          "metadata": {
            "needs_background": "light"
          }
        }
      ]
    },
    {
      "cell_type": "markdown",
      "metadata": {
        "id": "485ff207"
      },
      "source": [
        "***"
      ],
      "id": "485ff207"
    },
    {
      "cell_type": "markdown",
      "metadata": {
        "id": "43e0e6bc"
      },
      "source": [
        "# TensorFlow Implementation"
      ],
      "id": "43e0e6bc"
    },
    {
      "cell_type": "code",
      "metadata": {
        "id": "19025638"
      },
      "source": [
        "os.environ['CUDA_VISIBLE_DEVICES'] = ''\n",
        "import tensorflow as tf "
      ],
      "id": "19025638",
      "execution_count": 26,
      "outputs": []
    },
    {
      "cell_type": "markdown",
      "metadata": {
        "id": "616d66e2"
      },
      "source": [
        "### Load the data for training and testing"
      ],
      "id": "616d66e2"
    },
    {
      "cell_type": "code",
      "metadata": {
        "id": "323e8128"
      },
      "source": [
        "tf_train_dataset = tf.data.Dataset.from_tensor_slices((train_images, train_labels)).batch(1)\n",
        "tf_test_dataset = tf.data.Dataset.from_tensor_slices((test_images, test_labels)).batch(1)"
      ],
      "id": "323e8128",
      "execution_count": 27,
      "outputs": []
    },
    {
      "cell_type": "markdown",
      "metadata": {
        "id": "b79a2bdb"
      },
      "source": [
        "### Define and compile the model"
      ],
      "id": "b79a2bdb"
    },
    {
      "cell_type": "code",
      "metadata": {
        "id": "e706d83d"
      },
      "source": [
        "tf_mnist = tf.keras.Sequential([\n",
        "    tf.keras.layers.Flatten(input_shape=(28, 28)),\n",
        "    tf.keras.layers.Dense(128, activation='relu'),\n",
        "    tf.keras.layers.Dense(10, activation='softmax')\n",
        "])\n",
        "\n",
        "tf_mnist.compile(optimizer=tf.keras.optimizers.SGD(learning_rate=LR),\n",
        "              loss=tf.keras.losses.SparseCategoricalCrossentropy(),\n",
        "              metrics=['accuracy']\n",
        ")"
      ],
      "id": "e706d83d",
      "execution_count": 28,
      "outputs": []
    },
    {
      "cell_type": "markdown",
      "metadata": {
        "id": "8ef3b8a2"
      },
      "source": [
        "### Train the model"
      ],
      "id": "8ef3b8a2"
    },
    {
      "cell_type": "code",
      "metadata": {
        "id": "4b25dfa0",
        "colab": {
          "base_uri": "https://localhost:8080/"
        },
        "outputId": "2548100f-d9a3-4c75-85d0-1e5cdd14c566"
      },
      "source": [
        "tic = time()\n",
        "_ = tf_mnist.fit(tf_train_dataset, epochs=EPOCHS)\n",
        "print(f'Time taken to train: {((time()-tic)/60):0.2f} minutes')"
      ],
      "id": "4b25dfa0",
      "execution_count": 29,
      "outputs": [
        {
          "output_type": "stream",
          "name": "stdout",
          "text": [
            "Epoch 1/10\n",
            "60000/60000 [==============================] - 114s 2ms/step - loss: 0.2078 - accuracy: 0.9387\n",
            "Epoch 2/10\n",
            "60000/60000 [==============================] - 580s 10ms/step - loss: 0.0956 - accuracy: 0.9720\n",
            "Epoch 3/10\n",
            "60000/60000 [==============================] - 587s 10ms/step - loss: 0.0663 - accuracy: 0.9799\n",
            "Epoch 4/10\n",
            "60000/60000 [==============================] - 586s 10ms/step - loss: 0.0487 - accuracy: 0.9853\n",
            "Epoch 5/10\n",
            "60000/60000 [==============================] - 583s 10ms/step - loss: 0.0362 - accuracy: 0.9893\n",
            "Epoch 6/10\n",
            "60000/60000 [==============================] - 584s 10ms/step - loss: 0.0269 - accuracy: 0.9926\n",
            "Epoch 7/10\n",
            "60000/60000 [==============================] - 576s 10ms/step - loss: 0.0204 - accuracy: 0.9946\n",
            "Epoch 8/10\n",
            "60000/60000 [==============================] - 584s 10ms/step - loss: 0.0154 - accuracy: 0.9961\n",
            "Epoch 9/10\n",
            "60000/60000 [==============================] - 577s 10ms/step - loss: 0.0113 - accuracy: 0.9976\n",
            "Epoch 10/10\n",
            "60000/60000 [==============================] - 580s 10ms/step - loss: 0.0095 - accuracy: 0.9980\n",
            "Time taken to train: 93.09 minutes\n"
          ]
        }
      ]
    },
    {
      "cell_type": "markdown",
      "metadata": {
        "id": "371ceda5"
      },
      "source": [
        "### Evaluate the model"
      ],
      "id": "371ceda5"
    },
    {
      "cell_type": "code",
      "metadata": {
        "id": "0388fdd6",
        "colab": {
          "base_uri": "https://localhost:8080/"
        },
        "outputId": "459d186a-f713-406d-e345-28a3bd3f5937"
      },
      "source": [
        "loss, accuracy = tf_mnist.evaluate(tf_test_dataset)\n",
        "print(f'TensorFlow model accuracy on test set: {(100*accuracy):.2f}%')\n",
        "print(f'TensorFlow model loss on test set: {loss:.2f}')"
      ],
      "id": "0388fdd6",
      "execution_count": 30,
      "outputs": [
        {
          "output_type": "stream",
          "name": "stdout",
          "text": [
            "10000/10000 [==============================] - 11s 1ms/step - loss: 0.0973 - accuracy: 0.9759\n",
            "TensorFlow model accuracy on test set: 97.59%\n",
            "TensorFlow model loss on test set: 0.10\n"
          ]
        }
      ]
    },
    {
      "cell_type": "markdown",
      "metadata": {
        "id": "dc8e2910"
      },
      "source": [
        "### Random test"
      ],
      "id": "dc8e2910"
    },
    {
      "cell_type": "code",
      "metadata": {
        "id": "9a96c7ba",
        "colab": {
          "base_uri": "https://localhost:8080/",
          "height": 299
        },
        "outputId": "894178ac-41ce-4a72-cdc7-8d32d0b73e9f"
      },
      "source": [
        "idx = random.randint(0, len(test_images))\n",
        "forward = np.argmax(tf_mnist.predict(np.expand_dims(test_images[idx], axis=0)))\n",
        "print(f'Actual: {test_labels[idx]}, Predicted: {forward}')\n",
        "plt.imshow(test_images[idx], cmap='gray')"
      ],
      "id": "9a96c7ba",
      "execution_count": 31,
      "outputs": [
        {
          "output_type": "stream",
          "name": "stdout",
          "text": [
            "Actual: 6, Predicted: 6\n"
          ]
        },
        {
          "output_type": "execute_result",
          "data": {
            "text/plain": [
              "<matplotlib.image.AxesImage at 0x7f68fe99fe50>"
            ]
          },
          "metadata": {},
          "execution_count": 31
        },
        {
          "output_type": "display_data",
          "data": {
            "image/png": "[encoded data removed]",
            "text/plain": [
              "<Figure size 432x288 with 1 Axes>"
            ]
          },
          "metadata": {
            "needs_background": "light"
          }
        }
      ]
    }
  ]
}