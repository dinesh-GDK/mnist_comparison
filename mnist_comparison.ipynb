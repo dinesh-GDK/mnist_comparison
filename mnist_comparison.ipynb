{
 "cells": [
  {
   "cell_type": "code",
   "execution_count": null,
   "id": "d418b28a",
   "metadata": {},
   "outputs": [],
   "source": [
    "# create requirements.txt"
   ]
  },
  {
   "cell_type": "code",
   "execution_count": 26,
   "id": "01d52186",
   "metadata": {},
   "outputs": [],
   "source": [
    "import numpy as np\n",
    "import matplotlib.pyplot as plt\n",
    "import idx2numpy\n",
    "import random\n",
    "from urllib import request\n",
    "import shutil\n",
    "import gzip\n",
    "import os"
   ]
  },
  {
   "cell_type": "markdown",
   "id": "04b1aade",
   "metadata": {},
   "source": [
    "# Prepare the Dataset"
   ]
  },
  {
   "cell_type": "markdown",
   "id": "2907b396",
   "metadata": {},
   "source": [
    "### Download and unzip the MNIST dataset"
   ]
  },
  {
   "cell_type": "code",
   "execution_count": 14,
   "id": "9e157683",
   "metadata": {},
   "outputs": [],
   "source": [
    "base_url = 'http://yann.lecun.com/exdb/mnist/'\n",
    "\n",
    "dataset = ['train-images.idx3-ubyte', 'train-labels.idx1-ubyte',\n",
    "           't10k-images.idx3-ubyte', 't10k-labels.idx1-ubyte']\n",
    "\n",
    "for file in dataset:\n",
    "    \n",
    "    _file = file.replace('.', '-') + '.gz'\n",
    "    \n",
    "    if _file not in os.listdir():\n",
    "        with request.urlopen(f'{base_url}{_file}') as response, open(_file, 'wb') as out_file:\n",
    "            shutil.copyfileobj(response, out_file)\n",
    "        \n",
    "    with gzip.open(_file, 'rb') as f_in, open(file, 'wb') as f_out:\n",
    "        shutil.copyfileobj(f_in, f_out)"
   ]
  },
  {
   "cell_type": "markdown",
   "id": "595e3a86",
   "metadata": {},
   "source": [
    "### Load the dataset"
   ]
  },
  {
   "cell_type": "code",
   "execution_count": 78,
   "id": "624f7148",
   "metadata": {
    "scrolled": true
   },
   "outputs": [],
   "source": [
    "train_images = idx2numpy.convert_from_file(dataset[0]) / 255.0\n",
    "train_labels = idx2numpy.convert_from_file(dataset[1])\n",
    "test_images = idx2numpy.convert_from_file(dataset[2]) / 255.0\n",
    "test_labels = idx2numpy.convert_from_file(dataset[3])"
   ]
  },
  {
   "cell_type": "markdown",
   "id": "7c231377",
   "metadata": {},
   "source": [
    "### Plot a random sample"
   ]
  },
  {
   "cell_type": "code",
   "execution_count": 79,
   "id": "cbb5d52a",
   "metadata": {},
   "outputs": [
    {
     "data": {
      "text/plain": [
       "<matplotlib.image.AxesImage at 0x7f6df1f80970>"
      ]
     },
     "execution_count": 79,
     "metadata": {},
     "output_type": "execute_result"
    },
    {
     "data": {
      "image/png": "[encoded data removed]",
      "text/plain": [
       "<Figure size 432x288 with 1 Axes>"
      ]
     },
     "metadata": {
      "needs_background": "light"
     },
     "output_type": "display_data"
    }
   ],
   "source": [
    "idx = random.randint(0, len(train_images))\n",
    "plt.title(f'Label: {train_labels[idx]}')\n",
    "plt.imshow(train_images[idx], cmap='gray')"
   ]
  }
 ],
 "metadata": {
  "kernelspec": {
   "display_name": "Python 3 (ipykernel)",
   "language": "python",
   "name": "python3"
  },
  "language_info": {
   "codemirror_mode": {
    "name": "ipython",
    "version": 3
   },
   "file_extension": ".py",
   "mimetype": "text/x-python",
   "name": "python",
   "nbconvert_exporter": "python",
   "pygments_lexer": "ipython3",
   "version": "3.9.5"
  }
 },
 "nbformat": 4,
 "nbformat_minor": 5
}
