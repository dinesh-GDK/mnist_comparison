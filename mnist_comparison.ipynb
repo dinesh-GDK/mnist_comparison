{
 "cells": [
  {
   "cell_type": "markdown",
   "id": "4f65e145",
   "metadata": {},
   "source": [
    "# Comparison of Custom Numpy, PyTorch and TensorFlow"
   ]
  },
  {
   "cell_type": "code",
   "execution_count": 231,
   "id": "0554cc43",
   "metadata": {},
   "outputs": [],
   "source": [
    "import numpy as np\n",
    "import matplotlib.pyplot as plt\n",
    "import idx2numpy\n",
    "import random\n",
    "from urllib import request\n",
    "import shutil\n",
    "import gzip\n",
    "import os\n",
    "from tqdm import tqdm"
   ]
  },
  {
   "cell_type": "markdown",
   "id": "4ad227ff",
   "metadata": {},
   "source": [
    "# Prepare the Dataset"
   ]
  },
  {
   "cell_type": "markdown",
   "id": "d029a19c",
   "metadata": {},
   "source": [
    "### Download and unzip the MNIST dataset"
   ]
  },
  {
   "cell_type": "code",
   "execution_count": 232,
   "id": "5d54c32f",
   "metadata": {},
   "outputs": [],
   "source": [
    "base_url = 'http://yann.lecun.com/exdb/mnist/'\n",
    "\n",
    "dataset = ['train-images.idx3-ubyte', 'train-labels.idx1-ubyte',\n",
    "           't10k-images.idx3-ubyte', 't10k-labels.idx1-ubyte']\n",
    "\n",
    "for file in dataset:\n",
    "    \n",
    "    _file = file.replace('.', '-') + '.gz'\n",
    "    \n",
    "    if _file not in os.listdir():\n",
    "        with request.urlopen(f'{base_url}{_file}') as response, open(_file, 'wb') as out_file:\n",
    "            shutil.copyfileobj(response, out_file)\n",
    "    \n",
    "    if file not in os.listdir():\n",
    "        with gzip.open(_file, 'rb') as f_in, open(file, 'wb') as f_out:\n",
    "            shutil.copyfileobj(f_in, f_out)"
   ]
  },
  {
   "cell_type": "markdown",
   "id": "4fe04597",
   "metadata": {},
   "source": [
    "### Load the dataset and normalize"
   ]
  },
  {
   "cell_type": "code",
   "execution_count": 233,
   "id": "e07aa243",
   "metadata": {
    "scrolled": true
   },
   "outputs": [],
   "source": [
    "train_images = idx2numpy.convert_from_file(dataset[0]) / 255.0\n",
    "train_labels = idx2numpy.convert_from_file(dataset[1])\n",
    "test_images  = idx2numpy.convert_from_file(dataset[2]) / 255.0\n",
    "test_labels  = idx2numpy.convert_from_file(dataset[3])"
   ]
  },
  {
   "cell_type": "markdown",
   "id": "8a6a9739",
   "metadata": {},
   "source": [
    "### Plot a random sample"
   ]
  },
  {
   "cell_type": "code",
   "execution_count": 234,
   "id": "670ff57e",
   "metadata": {},
   "outputs": [
    {
     "data": {
      "text/plain": [
       "<matplotlib.image.AxesImage at 0x7f00c9000910>"
      ]
     },
     "execution_count": 234,
     "metadata": {},
     "output_type": "execute_result"
    },
    {
     "data": {
      "image/png": "[encoded data removed]",
      "text/plain": [
       "<Figure size 432x288 with 1 Axes>"
      ]
     },
     "metadata": {
      "needs_background": "light"
     },
     "output_type": "display_data"
    }
   ],
   "source": [
    "idx = random.randint(0, len(train_images))\n",
    "plt.title(f'Label: {train_labels[idx]}')\n",
    "plt.imshow(train_images[idx], cmap='gray')"
   ]
  },
  {
   "cell_type": "markdown",
   "id": "877a992e",
   "metadata": {},
   "source": [
    "### Define the common parameters"
   ]
  },
  {
   "cell_type": "code",
   "execution_count": 235,
   "id": "6eebeda8",
   "metadata": {
    "scrolled": true
   },
   "outputs": [],
   "source": [
    "EPOCHS = 20\n",
    "LR = 0.01"
   ]
  },
  {
   "cell_type": "markdown",
   "id": "f816f83d",
   "metadata": {},
   "source": [
    "# Numpy Implementation"
   ]
  },
  {
   "cell_type": "code",
   "execution_count": 236,
   "id": "e55fdd72",
   "metadata": {},
   "outputs": [],
   "source": [
    "DTYPE = np.float32"
   ]
  },
  {
   "cell_type": "markdown",
   "id": "ade6d93a",
   "metadata": {},
   "source": [
    "### Define the required functions"
   ]
  },
  {
   "cell_type": "code",
   "execution_count": 237,
   "id": "6d1005be",
   "metadata": {},
   "outputs": [],
   "source": [
    "def label_to_onehot(index, num_of_classes=10):\n",
    "    label = np.zeros((1, num_of_classes))\n",
    "    label[0][index] = 1\n",
    "    return label"
   ]
  },
  {
   "cell_type": "code",
   "execution_count": 238,
   "id": "9dc17bc8",
   "metadata": {},
   "outputs": [],
   "source": [
    "def relu(vector):\n",
    "    vector[vector<0] = 0\n",
    "    return vector"
   ]
  },
  {
   "cell_type": "code",
   "execution_count": 239,
   "id": "b5bce57e",
   "metadata": {},
   "outputs": [],
   "source": [
    "def relu_derivative(vector):\n",
    "    vector[vector<=0] = 0.0\n",
    "    vector[vector>0] = 1.0\n",
    "    return vector"
   ]
  },
  {
   "cell_type": "code",
   "execution_count": 240,
   "id": "cb340089",
   "metadata": {},
   "outputs": [],
   "source": [
    "def softmax(vector):\n",
    "    exp = np.exp(vector - np.max(vector))\n",
    "    return exp / exp.sum()"
   ]
  },
  {
   "cell_type": "code",
   "execution_count": 241,
   "id": "c2104c86",
   "metadata": {},
   "outputs": [],
   "source": [
    "def cross_entropy(predict, label):\n",
    "    return -np.sum(label*np.log(predict)).astype(DTYPE)"
   ]
  },
  {
   "cell_type": "code",
   "execution_count": 242,
   "id": "936b9819",
   "metadata": {},
   "outputs": [],
   "source": [
    "def cross_entropy_derivative(predict, label):\n",
    "    return (-label/predict).astype(DTYPE)"
   ]
  },
  {
   "cell_type": "code",
   "execution_count": 243,
   "id": "8112229c",
   "metadata": {},
   "outputs": [],
   "source": [
    "def softmax_derivative(softmax):\n",
    "    s = softmax.reshape(-1,1)\n",
    "    return np.diagflat(s) - np.dot(s, s.T)"
   ]
  },
  {
   "cell_type": "markdown",
   "id": "2187fdf0",
   "metadata": {},
   "source": [
    "### Declare the Custom Numpy Model"
   ]
  },
  {
   "cell_type": "code",
   "execution_count": 244,
   "id": "585c470a",
   "metadata": {},
   "outputs": [],
   "source": [
    "class CustomMnist:\n",
    "    \n",
    "    def __init__(self, input_shape=(28, 28)):\n",
    "        \n",
    "        input_shape = input_shape[0]*input_shape[1]\n",
    "        self.layer1 = np.random.uniform(-1.0, 1.0, size=(input_shape, 128))/np.sqrt(input_shape*128)\n",
    "        self.layer2 = np.random.uniform(-1.0, 1.0, size=(128, 10))/np.sqrt(128*10)\n",
    "        \n",
    "        self.bias1 = np.random.uniform(-1.0, 1.0, size=(1, 128))/np.sqrt(128)\n",
    "        self.bias2 = np.random.uniform(-1.0, 1.0, size=(1, 10))/np.sqrt(10)\n",
    "        \n",
    "        self.layer1 = self.layer1.astype(DTYPE)\n",
    "        self.layer2 = self.layer2.astype(DTYPE)\n",
    "        self.bias1 = self.bias1.astype(DTYPE)\n",
    "        self.bias2 = self.bias2.astype(DTYPE)\n",
    "        \n",
    "    def forward(self, image):\n",
    "        \n",
    "        self.flatten = np.reshape(image.astype(DTYPE), (1, image.shape[0]*image.shape[1]))\n",
    "        self.inter1 = np.dot(self.flatten, self.layer1) + self.bias1\n",
    "        self.acti1 = relu(self.inter1)\n",
    "        self.inter2 = np.dot(self.acti1, self.layer2) + self.bias2\n",
    "        self.acti2 = softmax(self.inter2)\n",
    "        \n",
    "        return self.acti2\n",
    "    \n",
    "    def backward(self, label):\n",
    "        \n",
    "        temp1 = np.dot(self.layer2, label.T)\n",
    "        temp2 = np.dot(self.layer1, temp1)\n",
    "        temp2 = np.resize(temp2, (28, 28))\n",
    "        \n",
    "        return temp2\n",
    "        \n",
    "    def back_propagation(self, label):\n",
    "        \n",
    "        d_cross_entropy = cross_entropy_derivative(self.acti2, label)        \n",
    "        self.d_softmax = np.dot(d_cross_entropy, softmax_derivative(self.acti2))\n",
    "        self.d_layer2 = np.dot(self.acti1.T, self.d_softmax)\n",
    "        d_acti1 = np.dot(self.d_softmax, self.layer2.T)\n",
    "        self.d_relu = relu_derivative(self.acti1) * d_acti1\n",
    "        self.d_layer1 = np.dot(self.flatten.T, self.d_relu)\n",
    "        \n",
    "    def optimize(self, lr):\n",
    "        \n",
    "        self.layer1 -= lr * self.d_layer1\n",
    "        self.layer2 -= lr * self.d_layer2\n",
    "        \n",
    "        self.bias1 -= lr * self.d_relu\n",
    "        self.bias2 -= lr * self.d_softmax\n",
    "        \n",
    "    def view(self):\n",
    "        \n",
    "        print('\\nLayers\\n----------------------------')\n",
    "        print('Layer1: \\t', self.layer1.shape)\n",
    "        print('Layer2: \\t', self.layer2.shape, end='\\n\\n')\n",
    "        print('Flatten: \\t', self.flatten.shape)\n",
    "        print('Inter1: \\t', self.inter1.shape)\n",
    "        print('Acti1:  \\t', self.acti1.shape)\n",
    "        print('Inter2: \\t', self.inter2.shape)\n",
    "        print('Acti2:  \\t', self.acti2.shape)"
   ]
  },
  {
   "cell_type": "markdown",
   "id": "e8601b5a",
   "metadata": {},
   "source": [
    "### Train the custom model"
   ]
  },
  {
   "cell_type": "code",
   "execution_count": 245,
   "id": "17d1f372",
   "metadata": {},
   "outputs": [
    {
     "name": "stderr",
     "output_type": "stream",
     "text": [
      "Epochs: 1/20:   1%|▏                      | 436/60000 [00:04<10:12, Loss=2.1367]\n"
     ]
    },
    {
     "ename": "KeyboardInterrupt",
     "evalue": "",
     "output_type": "error",
     "traceback": [
      "\u001b[0;31m---------------------------------------------------------------------------\u001b[0m",
      "\u001b[0;31mKeyboardInterrupt\u001b[0m                         Traceback (most recent call last)",
      "\u001b[0;32m/tmp/ipykernel_48704/2165633684.py\u001b[0m in \u001b[0;36m<module>\u001b[0;34m\u001b[0m\n\u001b[1;32m     24\u001b[0m             \u001b[0maccuracy\u001b[0m \u001b[0;34m+=\u001b[0m \u001b[0;36m1\u001b[0m\u001b[0;34m\u001b[0m\u001b[0;34m\u001b[0m\u001b[0m\n\u001b[1;32m     25\u001b[0m \u001b[0;34m\u001b[0m\u001b[0m\n\u001b[0;32m---> 26\u001b[0;31m         \u001b[0mpbar\u001b[0m\u001b[0;34m.\u001b[0m\u001b[0mset_postfix\u001b[0m\u001b[0;34m(\u001b[0m\u001b[0mLoss\u001b[0m\u001b[0;34m=\u001b[0m\u001b[0;34mf'{custom_loss:.4f}'\u001b[0m\u001b[0;34m)\u001b[0m\u001b[0;34m\u001b[0m\u001b[0;34m\u001b[0m\u001b[0m\n\u001b[0m\u001b[1;32m     27\u001b[0m \u001b[0;34m\u001b[0m\u001b[0m\n\u001b[1;32m     28\u001b[0m     \u001b[0mlosses\u001b[0m\u001b[0;34m.\u001b[0m\u001b[0mappend\u001b[0m\u001b[0;34m(\u001b[0m\u001b[0mloss\u001b[0m\u001b[0;34m/\u001b[0m\u001b[0mlen\u001b[0m\u001b[0;34m(\u001b[0m\u001b[0mtrain_images\u001b[0m\u001b[0;34m)\u001b[0m\u001b[0;34m)\u001b[0m\u001b[0;34m\u001b[0m\u001b[0;34m\u001b[0m\u001b[0m\n",
      "\u001b[0;32m~/projects/mnist_comparison/.env/lib/python3.9/site-packages/tqdm/std.py\u001b[0m in \u001b[0;36mset_postfix\u001b[0;34m(self, ordered_dict, refresh, **kwargs)\u001b[0m\n\u001b[1;32m   1433\u001b[0m                                  for key in postfix.keys())\n\u001b[1;32m   1434\u001b[0m         \u001b[0;32mif\u001b[0m \u001b[0mrefresh\u001b[0m\u001b[0;34m:\u001b[0m\u001b[0;34m\u001b[0m\u001b[0;34m\u001b[0m\u001b[0m\n\u001b[0;32m-> 1435\u001b[0;31m             \u001b[0mself\u001b[0m\u001b[0;34m.\u001b[0m\u001b[0mrefresh\u001b[0m\u001b[0;34m(\u001b[0m\u001b[0;34m)\u001b[0m\u001b[0;34m\u001b[0m\u001b[0;34m\u001b[0m\u001b[0m\n\u001b[0m\u001b[1;32m   1436\u001b[0m \u001b[0;34m\u001b[0m\u001b[0m\n\u001b[1;32m   1437\u001b[0m     \u001b[0;32mdef\u001b[0m \u001b[0mset_postfix_str\u001b[0m\u001b[0;34m(\u001b[0m\u001b[0mself\u001b[0m\u001b[0;34m,\u001b[0m \u001b[0ms\u001b[0m\u001b[0;34m=\u001b[0m\u001b[0;34m''\u001b[0m\u001b[0;34m,\u001b[0m \u001b[0mrefresh\u001b[0m\u001b[0;34m=\u001b[0m\u001b[0;32mTrue\u001b[0m\u001b[0;34m)\u001b[0m\u001b[0;34m:\u001b[0m\u001b[0;34m\u001b[0m\u001b[0;34m\u001b[0m\u001b[0m\n",
      "\u001b[0;32m~/projects/mnist_comparison/.env/lib/python3.9/site-packages/tqdm/std.py\u001b[0m in \u001b[0;36mrefresh\u001b[0;34m(self, nolock, lock_args)\u001b[0m\n\u001b[1;32m   1349\u001b[0m             \u001b[0;32melse\u001b[0m\u001b[0;34m:\u001b[0m\u001b[0;34m\u001b[0m\u001b[0;34m\u001b[0m\u001b[0m\n\u001b[1;32m   1350\u001b[0m                 \u001b[0mself\u001b[0m\u001b[0;34m.\u001b[0m\u001b[0m_lock\u001b[0m\u001b[0;34m.\u001b[0m\u001b[0macquire\u001b[0m\u001b[0;34m(\u001b[0m\u001b[0;34m)\u001b[0m\u001b[0;34m\u001b[0m\u001b[0;34m\u001b[0m\u001b[0m\n\u001b[0;32m-> 1351\u001b[0;31m         \u001b[0mself\u001b[0m\u001b[0;34m.\u001b[0m\u001b[0mdisplay\u001b[0m\u001b[0;34m(\u001b[0m\u001b[0;34m)\u001b[0m\u001b[0;34m\u001b[0m\u001b[0;34m\u001b[0m\u001b[0m\n\u001b[0m\u001b[1;32m   1352\u001b[0m         \u001b[0;32mif\u001b[0m \u001b[0;32mnot\u001b[0m \u001b[0mnolock\u001b[0m\u001b[0;34m:\u001b[0m\u001b[0;34m\u001b[0m\u001b[0;34m\u001b[0m\u001b[0m\n\u001b[1;32m   1353\u001b[0m             \u001b[0mself\u001b[0m\u001b[0;34m.\u001b[0m\u001b[0m_lock\u001b[0m\u001b[0;34m.\u001b[0m\u001b[0mrelease\u001b[0m\u001b[0;34m(\u001b[0m\u001b[0;34m)\u001b[0m\u001b[0;34m\u001b[0m\u001b[0;34m\u001b[0m\u001b[0m\n",
      "\u001b[0;32m~/projects/mnist_comparison/.env/lib/python3.9/site-packages/tqdm/std.py\u001b[0m in \u001b[0;36mdisplay\u001b[0;34m(self, msg, pos)\u001b[0m\n\u001b[1;32m   1497\u001b[0m         \u001b[0;32mif\u001b[0m \u001b[0mpos\u001b[0m\u001b[0;34m:\u001b[0m\u001b[0;34m\u001b[0m\u001b[0;34m\u001b[0m\u001b[0m\n\u001b[1;32m   1498\u001b[0m             \u001b[0mself\u001b[0m\u001b[0;34m.\u001b[0m\u001b[0mmoveto\u001b[0m\u001b[0;34m(\u001b[0m\u001b[0mpos\u001b[0m\u001b[0;34m)\u001b[0m\u001b[0;34m\u001b[0m\u001b[0;34m\u001b[0m\u001b[0m\n\u001b[0;32m-> 1499\u001b[0;31m         \u001b[0mself\u001b[0m\u001b[0;34m.\u001b[0m\u001b[0msp\u001b[0m\u001b[0;34m(\u001b[0m\u001b[0mself\u001b[0m\u001b[0;34m.\u001b[0m\u001b[0m__str__\u001b[0m\u001b[0;34m(\u001b[0m\u001b[0;34m)\u001b[0m \u001b[0;32mif\u001b[0m \u001b[0mmsg\u001b[0m \u001b[0;32mis\u001b[0m \u001b[0;32mNone\u001b[0m \u001b[0;32melse\u001b[0m \u001b[0mmsg\u001b[0m\u001b[0;34m)\u001b[0m\u001b[0;34m\u001b[0m\u001b[0;34m\u001b[0m\u001b[0m\n\u001b[0m\u001b[1;32m   1500\u001b[0m         \u001b[0;32mif\u001b[0m \u001b[0mpos\u001b[0m\u001b[0;34m:\u001b[0m\u001b[0;34m\u001b[0m\u001b[0;34m\u001b[0m\u001b[0m\n\u001b[1;32m   1501\u001b[0m             \u001b[0mself\u001b[0m\u001b[0;34m.\u001b[0m\u001b[0mmoveto\u001b[0m\u001b[0;34m(\u001b[0m\u001b[0;34m-\u001b[0m\u001b[0mpos\u001b[0m\u001b[0;34m)\u001b[0m\u001b[0;34m\u001b[0m\u001b[0;34m\u001b[0m\u001b[0m\n",
      "\u001b[0;32m~/projects/mnist_comparison/.env/lib/python3.9/site-packages/tqdm/std.py\u001b[0m in \u001b[0;36mprint_status\u001b[0;34m(s)\u001b[0m\n\u001b[1;32m    349\u001b[0m         \u001b[0;32mdef\u001b[0m \u001b[0mprint_status\u001b[0m\u001b[0;34m(\u001b[0m\u001b[0ms\u001b[0m\u001b[0;34m)\u001b[0m\u001b[0;34m:\u001b[0m\u001b[0;34m\u001b[0m\u001b[0;34m\u001b[0m\u001b[0m\n\u001b[1;32m    350\u001b[0m             \u001b[0mlen_s\u001b[0m \u001b[0;34m=\u001b[0m \u001b[0mdisp_len\u001b[0m\u001b[0;34m(\u001b[0m\u001b[0ms\u001b[0m\u001b[0;34m)\u001b[0m\u001b[0;34m\u001b[0m\u001b[0;34m\u001b[0m\u001b[0m\n\u001b[0;32m--> 351\u001b[0;31m             \u001b[0mfp_write\u001b[0m\u001b[0;34m(\u001b[0m\u001b[0;34m'\\r'\u001b[0m \u001b[0;34m+\u001b[0m \u001b[0ms\u001b[0m \u001b[0;34m+\u001b[0m \u001b[0;34m(\u001b[0m\u001b[0;34m' '\u001b[0m \u001b[0;34m*\u001b[0m \u001b[0mmax\u001b[0m\u001b[0;34m(\u001b[0m\u001b[0mlast_len\u001b[0m\u001b[0;34m[\u001b[0m\u001b[0;36m0\u001b[0m\u001b[0;34m]\u001b[0m \u001b[0;34m-\u001b[0m \u001b[0mlen_s\u001b[0m\u001b[0;34m,\u001b[0m \u001b[0;36m0\u001b[0m\u001b[0;34m)\u001b[0m\u001b[0;34m)\u001b[0m\u001b[0;34m)\u001b[0m\u001b[0;34m\u001b[0m\u001b[0;34m\u001b[0m\u001b[0m\n\u001b[0m\u001b[1;32m    352\u001b[0m             \u001b[0mlast_len\u001b[0m\u001b[0;34m[\u001b[0m\u001b[0;36m0\u001b[0m\u001b[0;34m]\u001b[0m \u001b[0;34m=\u001b[0m \u001b[0mlen_s\u001b[0m\u001b[0;34m\u001b[0m\u001b[0;34m\u001b[0m\u001b[0m\n\u001b[1;32m    353\u001b[0m \u001b[0;34m\u001b[0m\u001b[0m\n",
      "\u001b[0;32m~/projects/mnist_comparison/.env/lib/python3.9/site-packages/tqdm/std.py\u001b[0m in \u001b[0;36mfp_write\u001b[0;34m(s)\u001b[0m\n\u001b[1;32m    342\u001b[0m \u001b[0;34m\u001b[0m\u001b[0m\n\u001b[1;32m    343\u001b[0m         \u001b[0;32mdef\u001b[0m \u001b[0mfp_write\u001b[0m\u001b[0;34m(\u001b[0m\u001b[0ms\u001b[0m\u001b[0;34m)\u001b[0m\u001b[0;34m:\u001b[0m\u001b[0;34m\u001b[0m\u001b[0;34m\u001b[0m\u001b[0m\n\u001b[0;32m--> 344\u001b[0;31m             \u001b[0mfp\u001b[0m\u001b[0;34m.\u001b[0m\u001b[0mwrite\u001b[0m\u001b[0;34m(\u001b[0m\u001b[0m_unicode\u001b[0m\u001b[0;34m(\u001b[0m\u001b[0ms\u001b[0m\u001b[0;34m)\u001b[0m\u001b[0;34m)\u001b[0m\u001b[0;34m\u001b[0m\u001b[0;34m\u001b[0m\u001b[0m\n\u001b[0m\u001b[1;32m    345\u001b[0m             \u001b[0mfp_flush\u001b[0m\u001b[0;34m(\u001b[0m\u001b[0;34m)\u001b[0m\u001b[0;34m\u001b[0m\u001b[0;34m\u001b[0m\u001b[0m\n\u001b[1;32m    346\u001b[0m \u001b[0;34m\u001b[0m\u001b[0m\n",
      "\u001b[0;32m~/projects/mnist_comparison/.env/lib/python3.9/site-packages/tqdm/utils.py\u001b[0m in \u001b[0;36minner\u001b[0;34m(*args, **kwargs)\u001b[0m\n\u001b[1;32m    143\u001b[0m         \u001b[0;32mdef\u001b[0m \u001b[0minner\u001b[0m\u001b[0;34m(\u001b[0m\u001b[0;34m*\u001b[0m\u001b[0margs\u001b[0m\u001b[0;34m,\u001b[0m \u001b[0;34m**\u001b[0m\u001b[0mkwargs\u001b[0m\u001b[0;34m)\u001b[0m\u001b[0;34m:\u001b[0m\u001b[0;34m\u001b[0m\u001b[0;34m\u001b[0m\u001b[0m\n\u001b[1;32m    144\u001b[0m             \u001b[0;32mtry\u001b[0m\u001b[0;34m:\u001b[0m\u001b[0;34m\u001b[0m\u001b[0;34m\u001b[0m\u001b[0m\n\u001b[0;32m--> 145\u001b[0;31m                 \u001b[0;32mreturn\u001b[0m \u001b[0mfunc\u001b[0m\u001b[0;34m(\u001b[0m\u001b[0;34m*\u001b[0m\u001b[0margs\u001b[0m\u001b[0;34m,\u001b[0m \u001b[0;34m**\u001b[0m\u001b[0mkwargs\u001b[0m\u001b[0;34m)\u001b[0m\u001b[0;34m\u001b[0m\u001b[0;34m\u001b[0m\u001b[0m\n\u001b[0m\u001b[1;32m    146\u001b[0m             \u001b[0;32mexcept\u001b[0m \u001b[0mOSError\u001b[0m \u001b[0;32mas\u001b[0m \u001b[0me\u001b[0m\u001b[0;34m:\u001b[0m\u001b[0;34m\u001b[0m\u001b[0;34m\u001b[0m\u001b[0m\n\u001b[1;32m    147\u001b[0m                 \u001b[0;32mif\u001b[0m \u001b[0me\u001b[0m\u001b[0;34m.\u001b[0m\u001b[0merrno\u001b[0m \u001b[0;34m!=\u001b[0m \u001b[0;36m5\u001b[0m\u001b[0;34m:\u001b[0m\u001b[0;34m\u001b[0m\u001b[0;34m\u001b[0m\u001b[0m\n",
      "\u001b[0;32m~/projects/mnist_comparison/.env/lib/python3.9/site-packages/ipykernel/iostream.py\u001b[0m in \u001b[0;36mwrite\u001b[0;34m(self, string)\u001b[0m\n\u001b[1;32m    517\u001b[0m             \u001b[0mis_child\u001b[0m \u001b[0;34m=\u001b[0m \u001b[0;34m(\u001b[0m\u001b[0;32mnot\u001b[0m \u001b[0mself\u001b[0m\u001b[0;34m.\u001b[0m\u001b[0m_is_master_process\u001b[0m\u001b[0;34m(\u001b[0m\u001b[0;34m)\u001b[0m\u001b[0;34m)\u001b[0m\u001b[0;34m\u001b[0m\u001b[0;34m\u001b[0m\u001b[0m\n\u001b[1;32m    518\u001b[0m             \u001b[0;31m# only touch the buffer in the IO thread to avoid races\u001b[0m\u001b[0;34m\u001b[0m\u001b[0;34m\u001b[0m\u001b[0;34m\u001b[0m\u001b[0m\n\u001b[0;32m--> 519\u001b[0;31m             \u001b[0mself\u001b[0m\u001b[0;34m.\u001b[0m\u001b[0mpub_thread\u001b[0m\u001b[0;34m.\u001b[0m\u001b[0mschedule\u001b[0m\u001b[0;34m(\u001b[0m\u001b[0;32mlambda\u001b[0m\u001b[0;34m:\u001b[0m \u001b[0mself\u001b[0m\u001b[0;34m.\u001b[0m\u001b[0m_buffer\u001b[0m\u001b[0;34m.\u001b[0m\u001b[0mwrite\u001b[0m\u001b[0;34m(\u001b[0m\u001b[0mstring\u001b[0m\u001b[0;34m)\u001b[0m\u001b[0;34m)\u001b[0m\u001b[0;34m\u001b[0m\u001b[0;34m\u001b[0m\u001b[0m\n\u001b[0m\u001b[1;32m    520\u001b[0m             \u001b[0;32mif\u001b[0m \u001b[0mis_child\u001b[0m\u001b[0;34m:\u001b[0m\u001b[0;34m\u001b[0m\u001b[0;34m\u001b[0m\u001b[0m\n\u001b[1;32m    521\u001b[0m                 \u001b[0;31m# mp.Pool cannot be trusted to flush promptly (or ever),\u001b[0m\u001b[0;34m\u001b[0m\u001b[0;34m\u001b[0m\u001b[0;34m\u001b[0m\u001b[0m\n",
      "\u001b[0;32m~/projects/mnist_comparison/.env/lib/python3.9/site-packages/ipykernel/iostream.py\u001b[0m in \u001b[0;36mschedule\u001b[0;34m(self, f)\u001b[0m\n\u001b[1;32m    212\u001b[0m             \u001b[0mself\u001b[0m\u001b[0;34m.\u001b[0m\u001b[0m_events\u001b[0m\u001b[0;34m.\u001b[0m\u001b[0mappend\u001b[0m\u001b[0;34m(\u001b[0m\u001b[0mf\u001b[0m\u001b[0;34m)\u001b[0m\u001b[0;34m\u001b[0m\u001b[0;34m\u001b[0m\u001b[0m\n\u001b[1;32m    213\u001b[0m             \u001b[0;31m# wake event thread (message content is ignored)\u001b[0m\u001b[0;34m\u001b[0m\u001b[0;34m\u001b[0m\u001b[0;34m\u001b[0m\u001b[0m\n\u001b[0;32m--> 214\u001b[0;31m             \u001b[0mself\u001b[0m\u001b[0;34m.\u001b[0m\u001b[0m_event_pipe\u001b[0m\u001b[0;34m.\u001b[0m\u001b[0msend\u001b[0m\u001b[0;34m(\u001b[0m\u001b[0;34mb''\u001b[0m\u001b[0;34m)\u001b[0m\u001b[0;34m\u001b[0m\u001b[0;34m\u001b[0m\u001b[0m\n\u001b[0m\u001b[1;32m    215\u001b[0m         \u001b[0;32melse\u001b[0m\u001b[0;34m:\u001b[0m\u001b[0;34m\u001b[0m\u001b[0;34m\u001b[0m\u001b[0m\n\u001b[1;32m    216\u001b[0m             \u001b[0mf\u001b[0m\u001b[0;34m(\u001b[0m\u001b[0;34m)\u001b[0m\u001b[0;34m\u001b[0m\u001b[0;34m\u001b[0m\u001b[0m\n",
      "\u001b[0;32m~/projects/mnist_comparison/.env/lib/python3.9/site-packages/zmq/sugar/socket.py\u001b[0m in \u001b[0;36msend\u001b[0;34m(self, data, flags, copy, track, routing_id, group)\u001b[0m\n\u001b[1;32m    539\u001b[0m                 )\n\u001b[1;32m    540\u001b[0m             \u001b[0mdata\u001b[0m\u001b[0;34m.\u001b[0m\u001b[0mgroup\u001b[0m \u001b[0;34m=\u001b[0m \u001b[0mgroup\u001b[0m\u001b[0;34m\u001b[0m\u001b[0;34m\u001b[0m\u001b[0m\n\u001b[0;32m--> 541\u001b[0;31m         \u001b[0;32mreturn\u001b[0m \u001b[0msuper\u001b[0m\u001b[0;34m(\u001b[0m\u001b[0mSocket\u001b[0m\u001b[0;34m,\u001b[0m \u001b[0mself\u001b[0m\u001b[0;34m)\u001b[0m\u001b[0;34m.\u001b[0m\u001b[0msend\u001b[0m\u001b[0;34m(\u001b[0m\u001b[0mdata\u001b[0m\u001b[0;34m,\u001b[0m \u001b[0mflags\u001b[0m\u001b[0;34m=\u001b[0m\u001b[0mflags\u001b[0m\u001b[0;34m,\u001b[0m \u001b[0mcopy\u001b[0m\u001b[0;34m=\u001b[0m\u001b[0mcopy\u001b[0m\u001b[0;34m,\u001b[0m \u001b[0mtrack\u001b[0m\u001b[0;34m=\u001b[0m\u001b[0mtrack\u001b[0m\u001b[0;34m)\u001b[0m\u001b[0;34m\u001b[0m\u001b[0;34m\u001b[0m\u001b[0m\n\u001b[0m\u001b[1;32m    542\u001b[0m \u001b[0;34m\u001b[0m\u001b[0m\n\u001b[1;32m    543\u001b[0m     \u001b[0;32mdef\u001b[0m \u001b[0msend_multipart\u001b[0m\u001b[0;34m(\u001b[0m\u001b[0mself\u001b[0m\u001b[0;34m,\u001b[0m \u001b[0mmsg_parts\u001b[0m\u001b[0;34m,\u001b[0m \u001b[0mflags\u001b[0m\u001b[0;34m=\u001b[0m\u001b[0;36m0\u001b[0m\u001b[0;34m,\u001b[0m \u001b[0mcopy\u001b[0m\u001b[0;34m=\u001b[0m\u001b[0;32mTrue\u001b[0m\u001b[0;34m,\u001b[0m \u001b[0mtrack\u001b[0m\u001b[0;34m=\u001b[0m\u001b[0;32mFalse\u001b[0m\u001b[0;34m,\u001b[0m \u001b[0;34m**\u001b[0m\u001b[0mkwargs\u001b[0m\u001b[0;34m)\u001b[0m\u001b[0;34m:\u001b[0m\u001b[0;34m\u001b[0m\u001b[0;34m\u001b[0m\u001b[0m\n",
      "\u001b[0;32mzmq/backend/cython/socket.pyx\u001b[0m in \u001b[0;36mzmq.backend.cython.socket.Socket.send\u001b[0;34m()\u001b[0m\n",
      "\u001b[0;32mzmq/backend/cython/socket.pyx\u001b[0m in \u001b[0;36mzmq.backend.cython.socket.Socket.send\u001b[0;34m()\u001b[0m\n",
      "\u001b[0;32mzmq/backend/cython/socket.pyx\u001b[0m in \u001b[0;36mzmq.backend.cython.socket._send_copy\u001b[0;34m()\u001b[0m\n",
      "\u001b[0;32m~/projects/mnist_comparison/.env/lib/python3.9/site-packages/zmq/backend/cython/checkrc.pxd\u001b[0m in \u001b[0;36mzmq.backend.cython.checkrc._check_rc\u001b[0;34m()\u001b[0m\n",
      "\u001b[0;31mKeyboardInterrupt\u001b[0m: "
     ]
    }
   ],
   "source": [
    "custom_mnist = CustomMnist()\n",
    "\n",
    "losses, accuracies = list(), list()\n",
    "\n",
    "for epoch in range(EPOCHS):\n",
    "    \n",
    "    b='{l_bar}{bar}| {n_fmt}/{total_fmt} [{elapsed}<{remaining}{postfix}]'\n",
    "    pbar = tqdm(zip(train_images, train_labels),\n",
    "                desc=f'Epochs: {epoch+1}/{EPOCHS}',\n",
    "                total=len(train_images), ncols=80, bar_format=b)\n",
    "    \n",
    "    loss, accuracy = 0, 0\n",
    "    for image, label in pbar:\n",
    "        \n",
    "        label = label_to_onehot(label)\n",
    "        \n",
    "        output = custom_mnist.forward(image)\n",
    "        custom_loss = cross_entropy(output, label)\n",
    "        custom_mnist.back_propagation(label)\n",
    "        custom_mnist.optimize(lr=LR)\n",
    "        \n",
    "        loss += custom_loss\n",
    "        if np.argmax(output) == np.argmax(label):\n",
    "            accuracy += 1 \n",
    "        \n",
    "        pbar.set_postfix(Loss=f'{custom_loss:.4f}')\n",
    "        \n",
    "    losses.append(loss/len(train_images))\n",
    "    accuracies.append(accuracy/len(train_images))\n",
    "\n",
    "loss_plot = plt.plot(losses, label='loss')\n",
    "acc_plot  = plt.plot(accuracies, label='accuracy')\n",
    "plt.ylim(-0.1, 1.1)\n",
    "plt.legend(loc='upper left')\n",
    "plt.grid()"
   ]
  },
  {
   "cell_type": "markdown",
   "id": "2710130d",
   "metadata": {},
   "source": [
    "### Evaluate the model"
   ]
  },
  {
   "cell_type": "code",
   "execution_count": 246,
   "id": "0efcb4a5",
   "metadata": {},
   "outputs": [
    {
     "name": "stderr",
     "output_type": "stream",
     "text": [
      "Evaluating: 100%|███████████████████████| 10000/10000 [01:09<00:00, Loss=1.9377]"
     ]
    },
    {
     "name": "stdout",
     "output_type": "stream",
     "text": [
      "Numpy model accuracy on test set: 47.97%\n"
     ]
    },
    {
     "name": "stderr",
     "output_type": "stream",
     "text": [
      "\n"
     ]
    }
   ],
   "source": [
    "b='{l_bar}{bar}| {n_fmt}/{total_fmt} [{elapsed}<{remaining}{postfix}]'\n",
    "pbar = tqdm(zip(test_images, test_labels),\n",
    "            desc='Evaluating',\n",
    "            total=len(test_images), ncols=80, bar_format=b)\n",
    "\n",
    "accuracy = 0\n",
    "for image, label in pbar:\n",
    "\n",
    "    label = label_to_onehot(label)\n",
    "\n",
    "    output = custom_mnist.forward(image)\n",
    "    custom_loss = cross_entropy(output, label)\n",
    "    \n",
    "    if(np.argmax(output) == np.argmax(label)):\n",
    "        accuracy += 1\n",
    "\n",
    "    pbar.set_postfix(Loss=f'{custom_loss:.4f}')\n",
    "    \n",
    "print(f'Numpy model accuracy on test set: {(100*accuracy/len(test_labels)):.2f}%')"
   ]
  },
  {
   "cell_type": "markdown",
   "id": "b0e36097",
   "metadata": {},
   "source": [
    "### Random test"
   ]
  },
  {
   "cell_type": "code",
   "execution_count": 247,
   "id": "d0974649",
   "metadata": {},
   "outputs": [
    {
     "name": "stdout",
     "output_type": "stream",
     "text": [
      "Actual: 7, Predicted: 9\n"
     ]
    },
    {
     "data": {
      "text/plain": [
       "<matplotlib.image.AxesImage at 0x7f0182bdf730>"
      ]
     },
     "execution_count": 247,
     "metadata": {},
     "output_type": "execute_result"
    },
    {
     "data": {
      "image/png": "[encoded data removed]",
      "text/plain": [
       "<Figure size 432x288 with 1 Axes>"
      ]
     },
     "metadata": {
      "needs_background": "light"
     },
     "output_type": "display_data"
    }
   ],
   "source": [
    "idx = random.randint(0, len(test_images))\n",
    "forward = np.argmax(custom_mnist.forward(test_images[idx]))\n",
    "print(f'Actual: {test_labels[idx]}, Predicted: {forward}')\n",
    "plt.imshow(test_images[idx], cmap='gray')"
   ]
  },
  {
   "cell_type": "markdown",
   "id": "af837030",
   "metadata": {},
   "source": [
    "### Backward pass"
   ]
  },
  {
   "cell_type": "code",
   "execution_count": 248,
   "id": "185e465e",
   "metadata": {},
   "outputs": [
    {
     "name": "stdout",
     "output_type": "stream",
     "text": [
      "Actual: 1, Predicted: 1\n"
     ]
    },
    {
     "data": {
      "text/plain": [
       "<matplotlib.image.AxesImage at 0x7f0182b9a340>"
      ]
     },
     "execution_count": 248,
     "metadata": {},
     "output_type": "execute_result"
    },
    {
     "data": {
      "image/png": "[encoded data removed]",
      "text/plain": [
       "<Figure size 432x288 with 2 Axes>"
      ]
     },
     "metadata": {
      "needs_background": "light"
     },
     "output_type": "display_data"
    }
   ],
   "source": [
    "idx = random.randint(0, len(test_images))\n",
    "\n",
    "label = label_to_onehot(test_labels[idx])\n",
    "forward = np.argmax(custom_mnist.forward(test_images[idx]))\n",
    "back = custom_mnist.backward(label)\n",
    "\n",
    "print(f'Actual: {test_labels[idx]}, Predicted: {forward}')\n",
    "\n",
    "fig, ax = plt.subplots(1, 2)\n",
    "ax[0].set_title(f'Actual Image')\n",
    "ax[1].set_title(f'Backward pass')\n",
    "ax[0].imshow(test_images[idx], cmap='gray')\n",
    "ax[1].imshow(back, cmap='gray')"
   ]
  },
  {
   "cell_type": "markdown",
   "id": "104b08a1",
   "metadata": {},
   "source": [
    "# PyTorch Implementation"
   ]
  },
  {
   "cell_type": "code",
   "execution_count": 249,
   "id": "4da34fd0",
   "metadata": {},
   "outputs": [],
   "source": [
    "os.environ['CUDA_VISIBLE_DEVICES'] = ''\n",
    "import torch\n",
    "from torch.utils.data import TensorDataset, DataLoader\n",
    "from torch import nn"
   ]
  },
  {
   "cell_type": "markdown",
   "id": "fcefe1ed",
   "metadata": {},
   "source": [
    "### Load the dataset in torch"
   ]
  },
  {
   "cell_type": "code",
   "execution_count": 252,
   "id": "accdd08b",
   "metadata": {},
   "outputs": [],
   "source": [
    "torch_train_images = torch.Tensor(np.copy(train_images))\n",
    "torch_train_labels = torch.Tensor(np.copy(train_labels))\n",
    "\n",
    "torch_train_dataset = TensorDataset(torch_train_images, torch_train_labels)\n",
    "torch_train_dataloader = DataLoader(torch_train_dataset)"
   ]
  },
  {
   "cell_type": "markdown",
   "id": "ac27e865",
   "metadata": {},
   "source": [
    "### Define the model, loss and optimizer"
   ]
  },
  {
   "cell_type": "code",
   "execution_count": 253,
   "id": "83af11b4",
   "metadata": {},
   "outputs": [],
   "source": [
    "class TorchMnist(nn.Module):\n",
    "\n",
    "    def __init__(self, input_shape=(28, 28)):\n",
    "        super(TorchMnist, self).__init__()\n",
    "        \n",
    "        self.fc1 = nn.Linear(input_shape[0]*input_shape[1], 120)\n",
    "        self.fc2 = nn.Linear(120, 10)\n",
    "\n",
    "    def forward(self, x):\n",
    "        \n",
    "        x = torch.flatten(x)\n",
    "        x = nn.functional.relu(self.fc1(x))\n",
    "        x = nn.functional.softmax(self.fc2(x), dim=0)\n",
    "        \n",
    "        return x\n",
    "    \n",
    "torch_mnist = TorchMnist()\n",
    "torch_loss = nn.CrossEntropyLoss()\n",
    "torch_optimizer = torch.optim.SGD(torch_mnist.parameters(), lr=0.01)"
   ]
  },
  {
   "cell_type": "markdown",
   "id": "9c93caca",
   "metadata": {},
   "source": [
    "### Train the model"
   ]
  },
  {
   "cell_type": "code",
   "execution_count": 255,
   "id": "7a9f674d",
   "metadata": {},
   "outputs": [
    {
     "name": "stderr",
     "output_type": "stream",
     "text": [
      "Epochs: 1/1:   7%|█▋                     | 4437/60000 [00:25<05:24, Loss=1.5702]\n"
     ]
    },
    {
     "ename": "KeyboardInterrupt",
     "evalue": "",
     "output_type": "error",
     "traceback": [
      "\u001b[0;31m---------------------------------------------------------------------------\u001b[0m",
      "\u001b[0;31mKeyboardInterrupt\u001b[0m                         Traceback (most recent call last)",
      "\u001b[0;32m/tmp/ipykernel_48704/3903096030.py\u001b[0m in \u001b[0;36m<module>\u001b[0;34m\u001b[0m\n\u001b[1;32m      8\u001b[0m     \u001b[0;32mfor\u001b[0m \u001b[0mimage\u001b[0m\u001b[0;34m,\u001b[0m \u001b[0mlabel\u001b[0m \u001b[0;32min\u001b[0m \u001b[0mpbar\u001b[0m\u001b[0;34m:\u001b[0m\u001b[0;34m\u001b[0m\u001b[0;34m\u001b[0m\u001b[0m\n\u001b[1;32m      9\u001b[0m \u001b[0;34m\u001b[0m\u001b[0m\n\u001b[0;32m---> 10\u001b[0;31m         \u001b[0mtorch_optimizer\u001b[0m\u001b[0;34m.\u001b[0m\u001b[0mzero_grad\u001b[0m\u001b[0;34m(\u001b[0m\u001b[0;34m)\u001b[0m\u001b[0;34m\u001b[0m\u001b[0;34m\u001b[0m\u001b[0m\n\u001b[0m\u001b[1;32m     11\u001b[0m \u001b[0;34m\u001b[0m\u001b[0m\n\u001b[1;32m     12\u001b[0m         \u001b[0moutput\u001b[0m \u001b[0;34m=\u001b[0m \u001b[0mtorch_mnist\u001b[0m\u001b[0;34m(\u001b[0m\u001b[0mimage\u001b[0m\u001b[0;34m)\u001b[0m\u001b[0;34m.\u001b[0m\u001b[0munsqueeze\u001b[0m\u001b[0;34m(\u001b[0m\u001b[0;36m0\u001b[0m\u001b[0;34m)\u001b[0m\u001b[0;34m\u001b[0m\u001b[0;34m\u001b[0m\u001b[0m\n",
      "\u001b[0;32m~/projects/mnist_comparison/.env/lib/python3.9/site-packages/torch/optim/optimizer.py\u001b[0m in \u001b[0;36mzero_grad\u001b[0;34m(self, set_to_none)\u001b[0m\n\u001b[1;32m    214\u001b[0m                             \u001b[0;32melse\u001b[0m\u001b[0;34m:\u001b[0m\u001b[0;34m\u001b[0m\u001b[0;34m\u001b[0m\u001b[0m\n\u001b[1;32m    215\u001b[0m                                 \u001b[0mp\u001b[0m\u001b[0;34m.\u001b[0m\u001b[0mgrad\u001b[0m\u001b[0;34m.\u001b[0m\u001b[0mrequires_grad_\u001b[0m\u001b[0;34m(\u001b[0m\u001b[0;32mFalse\u001b[0m\u001b[0;34m)\u001b[0m\u001b[0;34m\u001b[0m\u001b[0;34m\u001b[0m\u001b[0m\n\u001b[0;32m--> 216\u001b[0;31m                             \u001b[0mp\u001b[0m\u001b[0;34m.\u001b[0m\u001b[0mgrad\u001b[0m\u001b[0;34m.\u001b[0m\u001b[0mzero_\u001b[0m\u001b[0;34m(\u001b[0m\u001b[0;34m)\u001b[0m\u001b[0;34m\u001b[0m\u001b[0;34m\u001b[0m\u001b[0m\n\u001b[0m\u001b[1;32m    217\u001b[0m \u001b[0;34m\u001b[0m\u001b[0m\n\u001b[1;32m    218\u001b[0m     \u001b[0;32mdef\u001b[0m \u001b[0mstep\u001b[0m\u001b[0;34m(\u001b[0m\u001b[0mself\u001b[0m\u001b[0;34m,\u001b[0m \u001b[0mclosure\u001b[0m\u001b[0;34m)\u001b[0m\u001b[0;34m:\u001b[0m\u001b[0;34m\u001b[0m\u001b[0;34m\u001b[0m\u001b[0m\n",
      "\u001b[0;31mKeyboardInterrupt\u001b[0m: "
     ]
    }
   ],
   "source": [
    "for epoch in range(EPOCHS):\n",
    "    \n",
    "    b='{l_bar}{bar}| {n_fmt}/{total_fmt} [{elapsed}<{remaining}{postfix}]'\n",
    "    pbar = tqdm(torch_train_dataloader,\n",
    "                desc=f'Epochs: {epoch+1}/{EPOCHS}',\n",
    "                total=len(train_images), ncols=80, bar_format=b)\n",
    "    \n",
    "    for image, label in pbar:\n",
    "        \n",
    "        torch_optimizer.zero_grad()\n",
    "        \n",
    "        output = torch_mnist(image).unsqueeze(0)        \n",
    "        loss = torch_loss(output, label.type(torch.long))\n",
    "        loss.backward()\n",
    "        torch_optimizer.step()\n",
    "\n",
    "        pbar.set_postfix(Loss=f'{loss:.4f}')"
   ]
  },
  {
   "cell_type": "markdown",
   "id": "aae4d99a",
   "metadata": {},
   "source": [
    "### Load the testing data"
   ]
  },
  {
   "cell_type": "code",
   "execution_count": 256,
   "id": "c306c411",
   "metadata": {},
   "outputs": [],
   "source": [
    "torch_test_images = torch.Tensor(np.copy(test_images))\n",
    "torch_test_labels = torch.Tensor(np.copy(test_labels))\n",
    "\n",
    "torch_test_dataset = TensorDataset(torch_test_images, torch_test_labels)\n",
    "torch_test_dataloader = DataLoader(torch_test_dataset)"
   ]
  },
  {
   "cell_type": "markdown",
   "id": "263ebed0",
   "metadata": {},
   "source": [
    "### Evaluate the model"
   ]
  },
  {
   "cell_type": "code",
   "execution_count": 257,
   "id": "67649513",
   "metadata": {},
   "outputs": [
    {
     "name": "stderr",
     "output_type": "stream",
     "text": [
      "Evaluating: 100%|███████████████████████| 10000/10000 [00:43<00:00, Loss=1.4615]"
     ]
    },
    {
     "name": "stdout",
     "output_type": "stream",
     "text": [
      "PyTorch model accuracy on test set: 79.11%\n"
     ]
    },
    {
     "name": "stderr",
     "output_type": "stream",
     "text": [
      "\n"
     ]
    }
   ],
   "source": [
    "b='{l_bar}{bar}| {n_fmt}/{total_fmt} [{elapsed}<{remaining}{postfix}]'\n",
    "pbar = tqdm(torch_test_dataloader,\n",
    "            desc='Evaluating',\n",
    "            total=len(test_images), ncols=80, bar_format=b)\n",
    "\n",
    "accuracy = 0\n",
    "for image, label in pbar:\n",
    "\n",
    "    output = torch_mnist(image).unsqueeze(0)\n",
    "    loss = torch_loss(output, label.type(torch.long))\n",
    "    \n",
    "    output = np.argmax(output.detach().numpy())\n",
    "    \n",
    "    if output == label:\n",
    "        accuracy += 1\n",
    "\n",
    "    pbar.set_postfix(Loss=f'{loss:.4f}') \n",
    "    \n",
    "print(f'PyTorch model accuracy on test set: {(100*accuracy/len(test_labels)):.2f}%')"
   ]
  },
  {
   "cell_type": "markdown",
   "id": "35e854a7",
   "metadata": {},
   "source": [
    "### Random test"
   ]
  },
  {
   "cell_type": "code",
   "execution_count": 258,
   "id": "7f95ccc1",
   "metadata": {},
   "outputs": [
    {
     "name": "stdout",
     "output_type": "stream",
     "text": [
      "Actual: 6, Predicted: 6\n"
     ]
    },
    {
     "data": {
      "text/plain": [
       "<matplotlib.image.AxesImage at 0x7f0180cae5b0>"
      ]
     },
     "execution_count": 258,
     "metadata": {},
     "output_type": "execute_result"
    },
    {
     "data": {
      "image/png": "[encoded data removed]",
      "text/plain": [
       "<Figure size 432x288 with 1 Axes>"
      ]
     },
     "metadata": {
      "needs_background": "light"
     },
     "output_type": "display_data"
    }
   ],
   "source": [
    "idx = random.randint(0, len(test_images))\n",
    "forward = np.argmax(torch_mnist(image).unsqueeze(0).detach().numpy())\n",
    "print(f'Actual: {test_labels[idx]}, Predicted: {forward}')\n",
    "plt.imshow(test_images[idx], cmap='gray')"
   ]
  },
  {
   "cell_type": "markdown",
   "id": "e9c47b2f",
   "metadata": {},
   "source": [
    "# TensorFlow Implementation"
   ]
  },
  {
   "cell_type": "code",
   "execution_count": 259,
   "id": "19025638",
   "metadata": {},
   "outputs": [],
   "source": [
    "os.environ['CUDA_VISIBLE_DEVICES'] = ''\n",
    "import tensorflow as tf "
   ]
  },
  {
   "cell_type": "markdown",
   "id": "30410fc3",
   "metadata": {},
   "source": [
    "### Load the data for training and testing"
   ]
  },
  {
   "cell_type": "code",
   "execution_count": 260,
   "id": "323e8128",
   "metadata": {},
   "outputs": [],
   "source": [
    "tf_train_dataset = tf.data.Dataset.from_tensor_slices((train_images, train_labels)).batch(1)\n",
    "tf_test_dataset = tf.data.Dataset.from_tensor_slices((test_images, test_labels)).batch(1)"
   ]
  },
  {
   "cell_type": "markdown",
   "id": "adf96d97",
   "metadata": {},
   "source": [
    "### Define and compile the model"
   ]
  },
  {
   "cell_type": "code",
   "execution_count": 261,
   "id": "e706d83d",
   "metadata": {},
   "outputs": [],
   "source": [
    "tf_mnist = tf.keras.Sequential([\n",
    "    tf.keras.layers.Flatten(input_shape=(28, 28)),\n",
    "    tf.keras.layers.Dense(128, activation='relu'),\n",
    "    tf.keras.layers.Dense(10, activation='softmax')\n",
    "])\n",
    "\n",
    "tf_mnist.compile(optimizer=tf.keras.optimizers.SGD(learning_rate=LR),\n",
    "              loss=tf.keras.losses.SparseCategoricalCrossentropy(),\n",
    "              metrics=['accuracy']\n",
    ")"
   ]
  },
  {
   "cell_type": "markdown",
   "id": "e77236a7",
   "metadata": {},
   "source": [
    "### Train the model"
   ]
  },
  {
   "cell_type": "code",
   "execution_count": 262,
   "id": "4b25dfa0",
   "metadata": {},
   "outputs": [
    {
     "name": "stdout",
     "output_type": "stream",
     "text": [
      "60000/60000 [==============================] - 115s 2ms/step - loss: 0.2101 - accuracy: 0.9376\n"
     ]
    },
    {
     "name": "stderr",
     "output_type": "stream",
     "text": [
      "Exception ignored in: <function IteratorResourceDeleter.__del__ at 0x7f0115e12310>\n",
      "Traceback (most recent call last):\n",
      "  File \"/home/dinesh/projects/mnist_comparison/.env/lib/python3.9/site-packages/tensorflow/python/data/ops/iterator_ops.py\", line 545, in __del__\n",
      "    gen_dataset_ops.delete_iterator(\n",
      "  File \"/home/dinesh/projects/mnist_comparison/.env/lib/python3.9/site-packages/tensorflow/python/ops/gen_dataset_ops.py\", line 1263, in delete_iterator\n",
      "    _result = pywrap_tfe.TFE_Py_FastPathExecute(\n",
      "KeyboardInterrupt: \n"
     ]
    },
    {
     "data": {
      "text/plain": [
       "<keras.callbacks.History at 0x7f0180cd5b50>"
      ]
     },
     "execution_count": 262,
     "metadata": {},
     "output_type": "execute_result"
    }
   ],
   "source": [
    "tf_mnist.fit(tf_train_dataset, epochs=EPOCHS)"
   ]
  },
  {
   "cell_type": "markdown",
   "id": "8120521f",
   "metadata": {},
   "source": [
    "### Evaluate the model"
   ]
  },
  {
   "cell_type": "code",
   "execution_count": null,
   "id": "0388fdd6",
   "metadata": {},
   "outputs": [
    {
     "name": "stdout",
     "output_type": "stream",
     "text": [
      " 2412/10000 [======>.......................] - ETA: 10s - loss: 0.1865 - accuracy: 0.9420"
     ]
    }
   ],
   "source": [
    "_, accuracy = tf_mnist.evaluate(tf_test_dataset)\n",
    "print(f'TensorFlow model accuracy on test set: {(100*accuracy):.2f}%')"
   ]
  },
  {
   "cell_type": "markdown",
   "id": "216f493c",
   "metadata": {},
   "source": [
    "### Random test"
   ]
  },
  {
   "cell_type": "code",
   "execution_count": null,
   "id": "6990ce88",
   "metadata": {},
   "outputs": [],
   "source": [
    "idx = random.randint(0, len(test_images))\n",
    "forward = np.argmax(tf_mnist.predict(np.expand_dims(test_images[idx], axis=0)))\n",
    "print(f'Actual: {test_labels[idx]}, Predicted: {forward}')\n",
    "plt.imshow(test_images[idx], cmap='gray')"
   ]
  }
 ],
 "metadata": {
  "kernelspec": {
   "display_name": "Python 3 (ipykernel)",
   "language": "python",
   "name": "python3"
  },
  "language_info": {
   "codemirror_mode": {
    "name": "ipython",
    "version": 3
   },
   "file_extension": ".py",
   "mimetype": "text/x-python",
   "name": "python",
   "nbconvert_exporter": "python",
   "pygments_lexer": "ipython3",
   "version": "3.9.5"
  }
 },
 "nbformat": 4,
 "nbformat_minor": 5
}
