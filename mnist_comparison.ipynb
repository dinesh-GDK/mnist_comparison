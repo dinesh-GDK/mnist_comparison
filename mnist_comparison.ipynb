{
  "nbformat": 4,
  "nbformat_minor": 5,
  "metadata": {
    "kernelspec": {
      "display_name": "Python 3 (ipykernel)",
      "language": "python",
      "name": "python3"
    },
    "language_info": {
      "codemirror_mode": {
        "name": "ipython",
        "version": 3
      },
      "file_extension": ".py",
      "mimetype": "text/x-python",
      "name": "python",
      "nbconvert_exporter": "python",
      "pygments_lexer": "ipython3",
      "version": "3.9.5"
    },
    "colab": {
      "name": "mnist_comparison.ipynb",
      "provenance": [],
      "collapsed_sections": [
        "616d66e2",
        "b79a2bdb"
      ]
    }
  },
  "cells": [
    {
      "cell_type": "markdown",
      "metadata": {
        "id": "1fa198ba"
      },
      "source": [
        "# Comparison of Custom NumPy, PyTorch and TensorFlow models"
      ],
      "id": "1fa198ba"
    },
    {
      "cell_type": "code",
      "metadata": {
        "id": "0554cc43"
      },
      "source": [
        "import numpy as np\n",
        "import matplotlib.pyplot as plt\n",
        "import idx2numpy\n",
        "import random\n",
        "from urllib import request\n",
        "import shutil\n",
        "import gzip\n",
        "import os\n",
        "from tqdm import tqdm\n",
        "from time import time"
      ],
      "id": "0554cc43",
      "execution_count": 1,
      "outputs": []
    },
    {
      "cell_type": "markdown",
      "metadata": {
        "id": "4ad227ff"
      },
      "source": [
        "## Prepare the Dataset"
      ],
      "id": "4ad227ff"
    },
    {
      "cell_type": "markdown",
      "metadata": {
        "id": "d029a19c"
      },
      "source": [
        "### Download and unzip the MNIST dataset"
      ],
      "id": "d029a19c"
    },
    {
      "cell_type": "code",
      "metadata": {
        "id": "5d54c32f"
      },
      "source": [
        "base_url = 'http://yann.lecun.com/exdb/mnist/'\n",
        "\n",
        "dataset = ['train-images.idx3-ubyte', 'train-labels.idx1-ubyte',\n",
        "           't10k-images.idx3-ubyte', 't10k-labels.idx1-ubyte']\n",
        "\n",
        "for file in dataset:\n",
        "    \n",
        "    _file = file.replace('.', '-') + '.gz'\n",
        "    \n",
        "    if _file not in os.listdir():\n",
        "        with request.urlopen(f'{base_url}{_file}') as response, open(_file, 'wb') as out_file:\n",
        "            shutil.copyfileobj(response, out_file)\n",
        "    \n",
        "    if file not in os.listdir():\n",
        "        with gzip.open(_file, 'rb') as f_in, open(file, 'wb') as f_out:\n",
        "            shutil.copyfileobj(f_in, f_out)"
      ],
      "id": "5d54c32f",
      "execution_count": 2,
      "outputs": []
    },
    {
      "cell_type": "markdown",
      "metadata": {
        "id": "4fe04597"
      },
      "source": [
        "### Load the dataset and normalize"
      ],
      "id": "4fe04597"
    },
    {
      "cell_type": "code",
      "metadata": {
        "scrolled": true,
        "id": "e07aa243"
      },
      "source": [
        "train_images = idx2numpy.convert_from_file(dataset[0]) / 255.0\n",
        "train_labels = idx2numpy.convert_from_file(dataset[1])\n",
        "test_images  = idx2numpy.convert_from_file(dataset[2]) / 255.0\n",
        "test_labels  = idx2numpy.convert_from_file(dataset[3])"
      ],
      "id": "e07aa243",
      "execution_count": 3,
      "outputs": []
    },
    {
      "cell_type": "markdown",
      "metadata": {
        "id": "8a6a9739"
      },
      "source": [
        "### Plot a random sample"
      ],
      "id": "8a6a9739"
    },
    {
      "cell_type": "code",
      "metadata": {
        "colab": {
          "base_uri": "https://localhost:8080/",
          "height": 298
        },
        "id": "670ff57e",
        "outputId": "5b930656-999f-46f0-c312-87534ed5897a"
      },
      "source": [
        "idx = random.randint(0, len(train_images))\n",
        "plt.title(f'Label: {train_labels[idx]}')\n",
        "plt.imshow(train_images[idx], cmap='gray')"
      ],
      "id": "670ff57e",
      "execution_count": 4,
      "outputs": [
        {
          "output_type": "execute_result",
          "data": {
            "text/plain": [
              "<matplotlib.image.AxesImage at 0x7fe30fd03310>"
            ]
          },
          "metadata": {},
          "execution_count": 4
        },
        {
          "output_type": "display_data",
          "data": {
            "image/png": "[encoded data removed]",
            "text/plain": [
              "<Figure size 432x288 with 1 Axes>"
            ]
          },
          "metadata": {
            "needs_background": "light"
          }
        }
      ]
    },
    {
      "cell_type": "markdown",
      "metadata": {
        "id": "ec733cd7"
      },
      "source": [
        "### Define the common parameters"
      ],
      "id": "ec733cd7"
    },
    {
      "cell_type": "code",
      "metadata": {
        "scrolled": true,
        "id": "c91fc220"
      },
      "source": [
        "EPOCHS = 10\n",
        "LR = 0.01"
      ],
      "id": "c91fc220",
      "execution_count": 5,
      "outputs": []
    },
    {
      "cell_type": "markdown",
      "metadata": {
        "id": "eea27ed0"
      },
      "source": [
        "## NumPy Implementation"
      ],
      "id": "eea27ed0"
    },
    {
      "cell_type": "code",
      "metadata": {
        "id": "e55fdd72"
      },
      "source": [
        "DTYPE = np.float32"
      ],
      "id": "e55fdd72",
      "execution_count": 6,
      "outputs": []
    },
    {
      "cell_type": "markdown",
      "metadata": {
        "id": "70a88ae6"
      },
      "source": [
        "### Define the required functions"
      ],
      "id": "70a88ae6"
    },
    {
      "cell_type": "code",
      "metadata": {
        "id": "221aec9c"
      },
      "source": [
        "def label_to_onehot(index, num_of_classes=10):\n",
        "    label = np.zeros((1, num_of_classes))\n",
        "    label[0][index] = 1\n",
        "    return label"
      ],
      "id": "221aec9c",
      "execution_count": 7,
      "outputs": []
    },
    {
      "cell_type": "code",
      "metadata": {
        "id": "9dc17bc8"
      },
      "source": [
        "def relu(vector):\n",
        "    vector[vector<0] = 0\n",
        "    return vector"
      ],
      "id": "9dc17bc8",
      "execution_count": 8,
      "outputs": []
    },
    {
      "cell_type": "code",
      "metadata": {
        "id": "b5bce57e"
      },
      "source": [
        "def relu_derivative(vector):\n",
        "    vector[vector<=0] = 0.0\n",
        "    vector[vector>0] = 1.0\n",
        "    return vector"
      ],
      "id": "b5bce57e",
      "execution_count": 9,
      "outputs": []
    },
    {
      "cell_type": "code",
      "metadata": {
        "id": "cb340089"
      },
      "source": [
        "def softmax(vector):\n",
        "    exp = np.exp(vector - np.max(vector))\n",
        "    return exp / exp.sum()"
      ],
      "id": "cb340089",
      "execution_count": 10,
      "outputs": []
    },
    {
      "cell_type": "code",
      "metadata": {
        "id": "c2104c86"
      },
      "source": [
        "def cross_entropy(predict, label):\n",
        "    return -np.sum(label*np.log(predict)).astype(DTYPE)"
      ],
      "id": "c2104c86",
      "execution_count": 11,
      "outputs": []
    },
    {
      "cell_type": "code",
      "metadata": {
        "id": "936b9819"
      },
      "source": [
        "def cross_entropy_derivative(predict, label):\n",
        "    return (-label/predict).astype(DTYPE)"
      ],
      "id": "936b9819",
      "execution_count": 12,
      "outputs": []
    },
    {
      "cell_type": "code",
      "metadata": {
        "id": "8112229c"
      },
      "source": [
        "def softmax_derivative(softmax):\n",
        "    s = softmax.reshape(-1,1)\n",
        "    return np.diagflat(s) - np.dot(s, s.T)"
      ],
      "id": "8112229c",
      "execution_count": 13,
      "outputs": []
    },
    {
      "cell_type": "markdown",
      "metadata": {
        "id": "c6849038"
      },
      "source": [
        "### Define the Custom Model"
      ],
      "id": "c6849038"
    },
    {
      "cell_type": "code",
      "metadata": {
        "id": "585c470a"
      },
      "source": [
        "class CustomMnist:\n",
        "    \n",
        "    def __init__(self, input_shape=(28, 28)):\n",
        "        \n",
        "        input_shape = input_shape[0]*input_shape[1]\n",
        "        self.layer1 = np.random.uniform(-1.0, 1.0, size=(input_shape, 128))/np.sqrt(input_shape*128)\n",
        "        self.layer2 = np.random.uniform(-1.0, 1.0, size=(128, 10))/np.sqrt(128*10)\n",
        "        \n",
        "        self.bias1 = np.random.uniform(-1.0, 1.0, size=(1, 128))/np.sqrt(128)\n",
        "        self.bias2 = np.random.uniform(-1.0, 1.0, size=(1, 10))/np.sqrt(10)\n",
        "        \n",
        "        self.layer1 = self.layer1.astype(DTYPE)\n",
        "        self.layer2 = self.layer2.astype(DTYPE)\n",
        "        self.bias1 = self.bias1.astype(DTYPE)\n",
        "        self.bias2 = self.bias2.astype(DTYPE)\n",
        "        \n",
        "    def forward(self, image):\n",
        "        \n",
        "        self.flatten = np.reshape(image.astype(DTYPE), (1, image.shape[0]*image.shape[1]))\n",
        "        self.inter1 = np.dot(self.flatten, self.layer1) + self.bias1\n",
        "        self.acti1 = relu(self.inter1)\n",
        "        self.inter2 = np.dot(self.acti1, self.layer2) + self.bias2\n",
        "        self.acti2 = softmax(self.inter2)\n",
        "        \n",
        "        return self.acti2\n",
        "    \n",
        "    def backward(self, label):\n",
        "        \n",
        "        temp1 = np.dot(label, self.layer2.T)\n",
        "        temp2 = np.dot(temp1, self.layer1.T)\n",
        "        temp2 = np.resize(temp2, (28, 28))\n",
        "        \n",
        "        return temp2\n",
        "        \n",
        "    def back_propagation(self, label):\n",
        "        \n",
        "        d_cross_entropy = cross_entropy_derivative(self.acti2, label)        \n",
        "        self.d_softmax = np.dot(d_cross_entropy, softmax_derivative(self.acti2))\n",
        "        self.d_layer2 = np.dot(self.acti1.T, self.d_softmax)\n",
        "        d_acti1 = np.dot(self.d_softmax, self.layer2.T)\n",
        "        self.d_relu = relu_derivative(self.acti1) * d_acti1\n",
        "        self.d_layer1 = np.dot(self.flatten.T, self.d_relu)\n",
        "        \n",
        "    def optimize(self, lr):\n",
        "        \n",
        "        self.layer1 -= lr * self.d_layer1\n",
        "        self.layer2 -= lr * self.d_layer2\n",
        "        \n",
        "        self.bias1 -= lr * self.d_relu\n",
        "        self.bias2 -= lr * self.d_softmax\n",
        "        \n",
        "    def view(self):\n",
        "        \n",
        "        print('\\nLayers\\n----------------------------')\n",
        "        print('Layer1: \\t', self.layer1.shape)\n",
        "        print('Layer2: \\t', self.layer2.shape, end='\\n\\n')\n",
        "        print('Flatten: \\t', self.flatten.shape)\n",
        "        print('Inter1: \\t', self.inter1.shape)\n",
        "        print('Acti1:  \\t', self.acti1.shape)\n",
        "        print('Inter2: \\t', self.inter2.shape)\n",
        "        print('Acti2:  \\t', self.acti2.shape)"
      ],
      "id": "585c470a",
      "execution_count": 14,
      "outputs": []
    },
    {
      "cell_type": "markdown",
      "metadata": {
        "id": "79af6681"
      },
      "source": [
        "### Train the custom model"
      ],
      "id": "79af6681"
    },
    {
      "cell_type": "code",
      "metadata": {
        "colab": {
          "base_uri": "https://localhost:8080/",
          "height": 466
        },
        "id": "ae10bff0",
        "outputId": "56147d50-2f81-44f7-84fa-d450b5b66fe0"
      },
      "source": [
        "custom_mnist = CustomMnist()\n",
        "\n",
        "losses, accuracies = list(), list()\n",
        "\n",
        "tic = time()\n",
        "for epoch in range(EPOCHS):\n",
        "    \n",
        "    b='{l_bar}{bar}| {n_fmt}/{total_fmt} [{elapsed}<{remaining}{postfix}]'\n",
        "    pbar = tqdm(zip(train_images, train_labels),\n",
        "                desc=f'Epochs: {epoch+1}/{EPOCHS}',\n",
        "                total=len(train_images), ncols=80, bar_format=b)\n",
        "    \n",
        "    loss, accuracy = 0, 0\n",
        "    for it, (image, label) in enumerate(pbar, 1):\n",
        "        \n",
        "        label = label_to_onehot(label)\n",
        "        \n",
        "        output = custom_mnist.forward(image)\n",
        "        custom_loss = cross_entropy(output, label)\n",
        "        custom_mnist.back_propagation(label)\n",
        "        custom_mnist.optimize(lr=LR)\n",
        "        \n",
        "        loss += custom_loss\n",
        "        if np.argmax(output) == np.argmax(label):\n",
        "            accuracy += 1 \n",
        "        \n",
        "        pbar.set_postfix(Loss=f'{(loss/it):.4f}')\n",
        "        \n",
        "    losses.append(loss/len(train_labels))\n",
        "    accuracies.append(accuracy/len(train_labels))\n",
        "\n",
        "print(f'Time taken to train: {((time()-tic)/60):0.2f} minutes')\n",
        "\n",
        "loss_plot = plt.plot(losses, label='loss')\n",
        "acc_plot  = plt.plot(accuracies, label='accuracy')\n",
        "plt.xlabel('Epochs')\n",
        "plt.ylim(-0.1, 1.1)\n",
        "plt.legend(loc='upper left')\n",
        "plt.grid()"
      ],
      "id": "ae10bff0",
      "execution_count": 15,
      "outputs": [
        {
          "output_type": "stream",
          "name": "stderr",
          "text": [
            "Epochs: 1/10: 100%|█████████████████████| 60000/60000 [04:25<00:00, Loss=0.2512]\n",
            "Epochs: 2/10: 100%|█████████████████████| 60000/60000 [04:24<00:00, Loss=0.1072]\n",
            "Epochs: 3/10: 100%|█████████████████████| 60000/60000 [04:32<00:00, Loss=0.0761]\n",
            "Epochs: 4/10: 100%|█████████████████████| 60000/60000 [04:41<00:00, Loss=0.0583]\n",
            "Epochs: 5/10: 100%|█████████████████████| 60000/60000 [04:32<00:00, Loss=0.0465]\n",
            "Epochs: 6/10: 100%|█████████████████████| 60000/60000 [04:40<00:00, Loss=0.0367]\n",
            "Epochs: 7/10: 100%|█████████████████████| 60000/60000 [04:35<00:00, Loss=0.0287]\n",
            "Epochs: 8/10: 100%|█████████████████████| 60000/60000 [04:36<00:00, Loss=0.0237]\n",
            "Epochs: 9/10: 100%|█████████████████████| 60000/60000 [04:25<00:00, Loss=0.0201]\n",
            "Epochs: 10/10: 100%|████████████████████| 60000/60000 [04:32<00:00, Loss=0.0177]\n"
          ]
        },
        {
          "output_type": "stream",
          "name": "stdout",
          "text": [
            "Time taken to train: 45.45 minutes\n"
          ]
        },
        {
          "output_type": "display_data",
          "data": {
            "image/png": "[encoded data removed]",
            "text/plain": [
              "<Figure size 432x288 with 1 Axes>"
            ]
          },
          "metadata": {
            "needs_background": "light"
          }
        }
      ]
    },
    {
      "cell_type": "markdown",
      "metadata": {
        "id": "30cdccfe"
      },
      "source": [
        "### Evaluate the model"
      ],
      "id": "30cdccfe"
    },
    {
      "cell_type": "code",
      "metadata": {
        "colab": {
          "base_uri": "https://localhost:8080/"
        },
        "id": "e5c064e2",
        "outputId": "cb4a87cc-55d4-458f-e4a1-07913371d3a8"
      },
      "source": [
        "b='{l_bar}{bar}| {n_fmt}/{total_fmt} [{elapsed}<{remaining}{postfix}]'\n",
        "pbar = tqdm(zip(test_images, test_labels),\n",
        "            desc='Evaluating',\n",
        "            total=len(test_images), ncols=80, bar_format=b)\n",
        "\n",
        "loss, accuracy = 0, 0\n",
        "for it, (image, label) in enumerate(pbar, 1):\n",
        "\n",
        "    label = label_to_onehot(label)\n",
        "\n",
        "    output = custom_mnist.forward(image)\n",
        "    loss += cross_entropy(output, label)\n",
        "    \n",
        "    if(np.argmax(output) == np.argmax(label)):\n",
        "        accuracy += 1\n",
        "\n",
        "    pbar.set_postfix(Loss=f'{(loss/it):.4f}')\n",
        "    \n",
        "print(f'\\nNumpy model accuracy on test set: {(100*accuracy/len(test_labels)):.2f}%')\n",
        "print(f'Numpy model loss on test set: {(loss/len(test_labels)):.2f}')"
      ],
      "id": "e5c064e2",
      "execution_count": 16,
      "outputs": [
        {
          "output_type": "stream",
          "name": "stderr",
          "text": [
            "Evaluating: 100%|███████████████████████| 10000/10000 [00:33<00:00, Loss=0.0968]"
          ]
        },
        {
          "output_type": "stream",
          "name": "stdout",
          "text": [
            "\n",
            "Numpy model accuracy on test set: 97.60%\n",
            "Numpy model loss on test set: 0.10\n"
          ]
        },
        {
          "output_type": "stream",
          "name": "stderr",
          "text": [
            "\n"
          ]
        }
      ]
    },
    {
      "cell_type": "markdown",
      "metadata": {
        "id": "0344f85e"
      },
      "source": [
        "### Random test"
      ],
      "id": "0344f85e"
    },
    {
      "cell_type": "code",
      "metadata": {
        "colab": {
          "base_uri": "https://localhost:8080/",
          "height": 299
        },
        "id": "d0974649",
        "outputId": "72605406-b7cb-4c25-e49b-1e7fc64a8a6d"
      },
      "source": [
        "idx = random.randint(0, len(test_images))\n",
        "forward = np.argmax(custom_mnist.forward(test_images[idx]))\n",
        "print(f'Actual: {test_labels[idx]}, Predicted: {forward}')\n",
        "plt.imshow(test_images[idx], cmap='gray')"
      ],
      "id": "d0974649",
      "execution_count": 17,
      "outputs": [
        {
          "output_type": "stream",
          "name": "stdout",
          "text": [
            "Actual: 7, Predicted: 7\n"
          ]
        },
        {
          "output_type": "execute_result",
          "data": {
            "text/plain": [
              "<matplotlib.image.AxesImage at 0x7fe3073b5690>"
            ]
          },
          "metadata": {},
          "execution_count": 17
        },
        {
          "output_type": "display_data",
          "data": {
            "image/png": "[encoded data removed]",
            "text/plain": [
              "<Figure size 432x288 with 1 Axes>"
            ]
          },
          "metadata": {
            "needs_background": "light"
          }
        }
      ]
    },
    {
      "cell_type": "markdown",
      "metadata": {
        "id": "766f1900"
      },
      "source": [
        "### Backward pass"
      ],
      "id": "766f1900"
    },
    {
      "cell_type": "code",
      "metadata": {
        "colab": {
          "base_uri": "https://localhost:8080/",
          "height": 250
        },
        "id": "4f244f93",
        "outputId": "d83bbe33-90b4-4e55-fbb9-e7e385717712"
      },
      "source": [
        "idx = random.randint(0, len(test_images))\n",
        "\n",
        "label = label_to_onehot(test_labels[idx])\n",
        "forward = np.argmax(custom_mnist.forward(test_images[idx]))\n",
        "back = custom_mnist.backward(label)\n",
        "\n",
        "print(f'Actual: {test_labels[idx]}, Predicted: {forward}')\n",
        "\n",
        "fig, ax = plt.subplots(1, 2)\n",
        "ax[0].set_title(f'Actual Image')\n",
        "ax[1].set_title(f'Backward pass')\n",
        "ax[0].imshow(test_images[idx], cmap='gray')\n",
        "ax[1].imshow(back, cmap='gray')"
      ],
      "id": "4f244f93",
      "execution_count": 18,
      "outputs": [
        {
          "output_type": "stream",
          "name": "stdout",
          "text": [
            "Actual: 8, Predicted: 8\n"
          ]
        },
        {
          "output_type": "execute_result",
          "data": {
            "text/plain": [
              "<matplotlib.image.AxesImage at 0x7fe3073707d0>"
            ]
          },
          "metadata": {},
          "execution_count": 18
        },
        {
          "output_type": "display_data",
          "data": {
            "image/png": "[encoded data removed]",
            "text/plain": [
              "<Figure size 432x288 with 2 Axes>"
            ]
          },
          "metadata": {
            "needs_background": "light"
          }
        }
      ]
    },
    {
      "cell_type": "markdown",
      "metadata": {
        "id": "020c6252"
      },
      "source": [
        "***"
      ],
      "id": "020c6252"
    },
    {
      "cell_type": "markdown",
      "metadata": {
        "id": "dbbd1213"
      },
      "source": [
        "## PyTorch Implementation"
      ],
      "id": "dbbd1213"
    },
    {
      "cell_type": "code",
      "metadata": {
        "id": "4da34fd0"
      },
      "source": [
        "os.environ['CUDA_VISIBLE_DEVICES'] = ''\n",
        "import torch\n",
        "from torch.utils.data import TensorDataset, DataLoader\n",
        "from torch import nn"
      ],
      "id": "4da34fd0",
      "execution_count": 19,
      "outputs": []
    },
    {
      "cell_type": "markdown",
      "metadata": {
        "id": "11b5beb2"
      },
      "source": [
        "### Load the dataset in torch"
      ],
      "id": "11b5beb2"
    },
    {
      "cell_type": "code",
      "metadata": {
        "id": "accdd08b"
      },
      "source": [
        "torch_train_images = torch.Tensor(np.copy(train_images))\n",
        "torch_train_labels = torch.Tensor(np.copy(train_labels))\n",
        "\n",
        "torch_train_dataset = TensorDataset(torch_train_images, torch_train_labels)\n",
        "torch_train_dataloader = DataLoader(torch_train_dataset)"
      ],
      "id": "accdd08b",
      "execution_count": 20,
      "outputs": []
    },
    {
      "cell_type": "markdown",
      "metadata": {
        "id": "4d7cdad6"
      },
      "source": [
        "### Define the model, loss and optimizer"
      ],
      "id": "4d7cdad6"
    },
    {
      "cell_type": "code",
      "metadata": {
        "id": "83af11b4"
      },
      "source": [
        "class TorchMnist(nn.Module):\n",
        "\n",
        "    def __init__(self, input_shape=(28, 28)):\n",
        "        super(TorchMnist, self).__init__()\n",
        "        \n",
        "        self.fc1 = nn.Linear(input_shape[0]*input_shape[1], 120)\n",
        "        self.fc2 = nn.Linear(120, 10)\n",
        "\n",
        "    def forward(self, x):\n",
        "        \n",
        "        x = torch.flatten(x)\n",
        "        x = nn.functional.relu(self.fc1(x))\n",
        "        x = self.fc2(x)\n",
        "        \n",
        "        return x\n",
        "    \n",
        "torch_mnist = TorchMnist()\n",
        "torch_loss = nn.CrossEntropyLoss()\n",
        "torch_optimizer = torch.optim.SGD(torch_mnist.parameters(), lr=0.01)"
      ],
      "id": "83af11b4",
      "execution_count": 21,
      "outputs": []
    },
    {
      "cell_type": "markdown",
      "metadata": {
        "id": "b9ce6d14"
      },
      "source": [
        "### Train the model"
      ],
      "id": "b9ce6d14"
    },
    {
      "cell_type": "code",
      "metadata": {
        "colab": {
          "base_uri": "https://localhost:8080/"
        },
        "id": "a25bb38f",
        "outputId": "d4c4a9a8-0944-4cc5-82d6-a66a9c1a5f63"
      },
      "source": [
        "tic = time()\n",
        "for epoch in range(EPOCHS):\n",
        "    \n",
        "    b='{l_bar}{bar}| {n_fmt}/{total_fmt} [{elapsed}<{remaining}{postfix}]'\n",
        "    pbar = tqdm(torch_train_dataloader,\n",
        "                desc=f'Epochs: {epoch+1}/{EPOCHS}',\n",
        "                total=len(train_images), ncols=80, bar_format=b)\n",
        "    \n",
        "    running_loss = 0\n",
        "    for it, (image, label) in enumerate(pbar, 1):\n",
        "        \n",
        "        torch_optimizer.zero_grad()\n",
        "        \n",
        "        output = torch_mnist(image).unsqueeze(0)        \n",
        "        loss = torch_loss(output, label.type(torch.long))\n",
        "        loss.backward()\n",
        "        torch_optimizer.step()\n",
        "        \n",
        "        running_loss += loss\n",
        "        pbar.set_postfix(Loss=f'{(running_loss/it):.4f}')\n",
        "\n",
        "print(f'Time taken to train: {((time()-tic)/60):0.2f} minutes')"
      ],
      "id": "a25bb38f",
      "execution_count": 22,
      "outputs": [
        {
          "output_type": "stream",
          "name": "stderr",
          "text": [
            "Epochs: 1/10: 100%|█████████████████████| 60000/60000 [04:34<00:00, Loss=0.2233]\n",
            "Epochs: 2/10: 100%|█████████████████████| 60000/60000 [04:28<00:00, Loss=0.0979]\n",
            "Epochs: 3/10: 100%|█████████████████████| 60000/60000 [04:30<00:00, Loss=0.0681]\n",
            "Epochs: 4/10: 100%|█████████████████████| 60000/60000 [04:25<00:00, Loss=0.0498]\n",
            "Epochs: 5/10: 100%|█████████████████████| 60000/60000 [04:22<00:00, Loss=0.0374]\n",
            "Epochs: 6/10: 100%|█████████████████████| 60000/60000 [04:23<00:00, Loss=0.0292]\n",
            "Epochs: 7/10: 100%|█████████████████████| 60000/60000 [04:25<00:00, Loss=0.0222]\n",
            "Epochs: 8/10: 100%|█████████████████████| 60000/60000 [04:21<00:00, Loss=0.0173]\n",
            "Epochs: 9/10: 100%|█████████████████████| 60000/60000 [04:24<00:00, Loss=0.0130]\n",
            "Epochs: 10/10: 100%|████████████████████| 60000/60000 [04:26<00:00, Loss=0.0109]"
          ]
        },
        {
          "output_type": "stream",
          "name": "stdout",
          "text": [
            "Time taken to train: 44.41 minutes\n"
          ]
        },
        {
          "output_type": "stream",
          "name": "stderr",
          "text": [
            "\n"
          ]
        }
      ]
    },
    {
      "cell_type": "markdown",
      "metadata": {
        "id": "f64f7b8f"
      },
      "source": [
        "### Load the testing data"
      ],
      "id": "f64f7b8f"
    },
    {
      "cell_type": "code",
      "metadata": {
        "id": "d43fbae0"
      },
      "source": [
        "torch_test_images = torch.Tensor(np.copy(test_images))\n",
        "torch_test_labels = torch.Tensor(np.copy(test_labels))\n",
        "\n",
        "torch_test_dataset = TensorDataset(torch_test_images, torch_test_labels)\n",
        "torch_test_dataloader = DataLoader(torch_test_dataset)"
      ],
      "id": "d43fbae0",
      "execution_count": 23,
      "outputs": []
    },
    {
      "cell_type": "markdown",
      "metadata": {
        "id": "f77e3fac"
      },
      "source": [
        "### Evaluate the model"
      ],
      "id": "f77e3fac"
    },
    {
      "cell_type": "code",
      "metadata": {
        "id": "e84a1e93",
        "colab": {
          "base_uri": "https://localhost:8080/"
        },
        "outputId": "c8784f9f-0707-43c6-802c-648d45533fb5"
      },
      "source": [
        "b='{l_bar}{bar}| {n_fmt}/{total_fmt} [{elapsed}<{remaining}{postfix}]'\n",
        "pbar = tqdm(torch_test_dataloader,\n",
        "            desc='Evaluating',\n",
        "            total=len(test_images), ncols=80, bar_format=b)\n",
        "\n",
        "loss, accuracy = 0, 0\n",
        "for image, label in pbar:\n",
        "\n",
        "    output = torch_mnist(image).unsqueeze(0)\n",
        "    loss += torch_loss(output, label.type(torch.long))\n",
        "    \n",
        "    output = np.argmax(output.detach().numpy())\n",
        "    \n",
        "    if output == label:\n",
        "        accuracy += 1\n",
        "\n",
        "    pbar.set_postfix(Loss=f'{(loss/it):.4f}') \n",
        "    \n",
        "print(f'\\nPyTorch model accuracy on test set: {(100*accuracy/len(test_labels)):.2f}%')\n",
        "print(f'PyTorch model loss on test set: {(loss/len(test_labels)):.2f}')"
      ],
      "id": "e84a1e93",
      "execution_count": 24,
      "outputs": [
        {
          "output_type": "stream",
          "name": "stderr",
          "text": [
            "Evaluating: 100%|███████████████████████| 10000/10000 [00:27<00:00, Loss=0.0181]"
          ]
        },
        {
          "output_type": "stream",
          "name": "stdout",
          "text": [
            "\n",
            "PyTorch model accuracy on test set: 97.41%\n",
            "PyTorch model loss on test set: 0.11\n"
          ]
        },
        {
          "output_type": "stream",
          "name": "stderr",
          "text": [
            "\n"
          ]
        }
      ]
    },
    {
      "cell_type": "markdown",
      "metadata": {
        "id": "ddcca1a8"
      },
      "source": [
        "### Random test"
      ],
      "id": "ddcca1a8"
    },
    {
      "cell_type": "code",
      "metadata": {
        "id": "011bd455",
        "colab": {
          "base_uri": "https://localhost:8080/",
          "height": 299
        },
        "outputId": "8975959b-82f2-486f-dcdc-69c3b279b2e6"
      },
      "source": [
        "idx = random.randint(0, len(test_images))\n",
        "forward = torch_mnist(torch.Tensor(test_images[idx]))\n",
        "forward = np.argmax(forward.unsqueeze(0).detach().numpy())\n",
        "print(f'Actual: {test_labels[idx]}, Predicted: {forward}')\n",
        "plt.imshow(test_images[idx], cmap='gray')"
      ],
      "id": "011bd455",
      "execution_count": 25,
      "outputs": [
        {
          "output_type": "stream",
          "name": "stdout",
          "text": [
            "Actual: 6, Predicted: 6\n"
          ]
        },
        {
          "output_type": "execute_result",
          "data": {
            "text/plain": [
              "<matplotlib.image.AxesImage at 0x7fe3074d6550>"
            ]
          },
          "metadata": {},
          "execution_count": 25
        },
        {
          "output_type": "display_data",
          "data": {
            "image/png": "[encoded data removed]",
            "text/plain": [
              "<Figure size 432x288 with 1 Axes>"
            ]
          },
          "metadata": {
            "needs_background": "light"
          }
        }
      ]
    },
    {
      "cell_type": "markdown",
      "metadata": {
        "id": "485ff207"
      },
      "source": [
        "***"
      ],
      "id": "485ff207"
    },
    {
      "cell_type": "markdown",
      "metadata": {
        "id": "43e0e6bc"
      },
      "source": [
        "# TensorFlow Implementation"
      ],
      "id": "43e0e6bc"
    },
    {
      "cell_type": "code",
      "metadata": {
        "id": "19025638"
      },
      "source": [
        "os.environ['CUDA_VISIBLE_DEVICES'] = ''\n",
        "import tensorflow as tf "
      ],
      "id": "19025638",
      "execution_count": 26,
      "outputs": []
    },
    {
      "cell_type": "markdown",
      "metadata": {
        "id": "616d66e2"
      },
      "source": [
        "### Load the data for training and testing"
      ],
      "id": "616d66e2"
    },
    {
      "cell_type": "code",
      "metadata": {
        "id": "323e8128"
      },
      "source": [
        "tf_train_dataset = tf.data.Dataset.from_tensor_slices((train_images, train_labels)).batch(1)\n",
        "tf_test_dataset = tf.data.Dataset.from_tensor_slices((test_images, test_labels)).batch(1)"
      ],
      "id": "323e8128",
      "execution_count": 27,
      "outputs": []
    },
    {
      "cell_type": "markdown",
      "metadata": {
        "id": "b79a2bdb"
      },
      "source": [
        "### Define and compile the model"
      ],
      "id": "b79a2bdb"
    },
    {
      "cell_type": "code",
      "metadata": {
        "id": "e706d83d"
      },
      "source": [
        "tf_mnist = tf.keras.Sequential([\n",
        "    tf.keras.layers.Flatten(input_shape=(28, 28)),\n",
        "    tf.keras.layers.Dense(128, activation='relu'),\n",
        "    tf.keras.layers.Dense(10, activation='softmax')\n",
        "])\n",
        "\n",
        "tf_mnist.compile(optimizer=tf.keras.optimizers.SGD(learning_rate=LR),\n",
        "              loss=tf.keras.losses.SparseCategoricalCrossentropy(),\n",
        "              metrics=['accuracy']\n",
        ")"
      ],
      "id": "e706d83d",
      "execution_count": 28,
      "outputs": []
    },
    {
      "cell_type": "markdown",
      "metadata": {
        "id": "8ef3b8a2"
      },
      "source": [
        "### Train the model"
      ],
      "id": "8ef3b8a2"
    },
    {
      "cell_type": "code",
      "metadata": {
        "id": "4b25dfa0",
        "colab": {
          "base_uri": "https://localhost:8080/"
        },
        "outputId": "8a8677ee-5119-4bf1-c930-6727831e59c7"
      },
      "source": [
        "tic = time()\n",
        "_ = tf_mnist.fit(tf_train_dataset, epochs=EPOCHS)\n",
        "print(f'Time taken to train: {((time()-tic)/60):0.2f} minutes')"
      ],
      "id": "4b25dfa0",
      "execution_count": 29,
      "outputs": [
        {
          "output_type": "stream",
          "name": "stdout",
          "text": [
            "Epoch 1/10\n",
            "60000/60000 [==============================] - 311s 5ms/step - loss: 0.2053 - accuracy: 0.9390\n",
            "Epoch 2/10\n",
            "60000/60000 [==============================] - 326s 5ms/step - loss: 0.0935 - accuracy: 0.9719\n",
            "Epoch 3/10\n",
            "60000/60000 [==============================] - 334s 6ms/step - loss: 0.0639 - accuracy: 0.9816\n",
            "Epoch 4/10\n",
            "60000/60000 [==============================] - 76s 1ms/step - loss: 0.0465 - accuracy: 0.9868\n",
            "Epoch 5/10\n",
            "60000/60000 [==============================] - 76s 1ms/step - loss: 0.0348 - accuracy: 0.9905\n",
            "Epoch 6/10\n",
            "60000/60000 [==============================] - 75s 1ms/step - loss: 0.0264 - accuracy: 0.9931\n",
            "Epoch 7/10\n",
            "60000/60000 [==============================] - 75s 1ms/step - loss: 0.0198 - accuracy: 0.9950\n",
            "Epoch 8/10\n",
            "60000/60000 [==============================] - 76s 1ms/step - loss: 0.0149 - accuracy: 0.9965\n",
            "Epoch 9/10\n",
            "60000/60000 [==============================] - 76s 1ms/step - loss: 0.0118 - accuracy: 0.9969\n",
            "Epoch 10/10\n",
            "60000/60000 [==============================] - 76s 1ms/step - loss: 0.0094 - accuracy: 0.9978\n",
            "Time taken to train: 27.36 minutes\n"
          ]
        }
      ]
    },
    {
      "cell_type": "markdown",
      "metadata": {
        "id": "371ceda5"
      },
      "source": [
        "### Evaluate the model"
      ],
      "id": "371ceda5"
    },
    {
      "cell_type": "code",
      "metadata": {
        "id": "0388fdd6",
        "colab": {
          "base_uri": "https://localhost:8080/"
        },
        "outputId": "a415dffb-adb2-4367-d698-c0667d001ef9"
      },
      "source": [
        "loss, accuracy = tf_mnist.evaluate(tf_test_dataset)\n",
        "print(f'TensorFlow model accuracy on test set: {(100*accuracy):.2f}%')\n",
        "print(f'TensorFlow model loss on test set: {loss:.2f}')"
      ],
      "id": "0388fdd6",
      "execution_count": 30,
      "outputs": [
        {
          "output_type": "stream",
          "name": "stdout",
          "text": [
            "10000/10000 [==============================] - 10s 927us/step - loss: 0.1029 - accuracy: 0.9745\n",
            "TensorFlow model accuracy on test set: 97.45%\n",
            "TensorFlow model loss on test set: 0.10\n"
          ]
        }
      ]
    },
    {
      "cell_type": "markdown",
      "metadata": {
        "id": "dc8e2910"
      },
      "source": [
        "### Random test"
      ],
      "id": "dc8e2910"
    },
    {
      "cell_type": "code",
      "metadata": {
        "id": "9a96c7ba",
        "colab": {
          "base_uri": "https://localhost:8080/",
          "height": 299
        },
        "outputId": "9013a6e2-bd27-4fad-a5c0-454dd2470af5"
      },
      "source": [
        "idx = random.randint(0, len(test_images))\n",
        "forward = np.argmax(tf_mnist.predict(np.expand_dims(test_images[idx], axis=0)))\n",
        "print(f'Actual: {test_labels[idx]}, Predicted: {forward}')\n",
        "plt.imshow(test_images[idx], cmap='gray')"
      ],
      "id": "9a96c7ba",
      "execution_count": 31,
      "outputs": [
        {
          "output_type": "stream",
          "name": "stdout",
          "text": [
            "Actual: 2, Predicted: 2\n"
          ]
        },
        {
          "output_type": "execute_result",
          "data": {
            "text/plain": [
              "<matplotlib.image.AxesImage at 0x7fe258ee7250>"
            ]
          },
          "metadata": {},
          "execution_count": 31
        },
        {
          "output_type": "display_data",
          "data": {
            "image/png": "[encoded data removed]",
            "text/plain": [
              "<Figure size 432x288 with 1 Axes>"
            ]
          },
          "metadata": {
            "needs_background": "light"
          }
        }
      ]
    }
  ]
}